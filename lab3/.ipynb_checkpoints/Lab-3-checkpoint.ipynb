{
 "cells": [
  {
   "cell_type": "markdown",
   "metadata": {},
   "source": [
    "# Меня ждут миллионы\n",
    "\n",
    "Обучите простую модель предсказания цены акций. Используйте один из рассмотренных на лекции \"Временные последовательности\" алгоритмов предсказания рядов. Можно использовать и более сложные алгоритмы предсказания рядов\n",
    "\n",
    "\n",
    "1. Найдите данные о цене любого биржевого актива\n",
    "\n",
    "    Данные должны содержать значение цены актива как минимум за каждый день и длительностю как минимум за год. \n",
    "\n",
    "    Найти данные можно на kaggle или использовать FAANG датасет из 1 лабораторной\n",
    "\n",
    "\n",
    "2. Предобработайте данные\n",
    "\n",
    "    Временной ряд сложно предсказывать по дням. Сделайте ряд по неделям или месяцам\n",
    "   \n",
    "    Удалите из ряда тренд, если он есть. Используйте другие рассмотренные на лекции приёмы\n",
    "\n",
    "\n",
    "3. Обучите модель\n",
    "    \n",
    "    Обучите модель на 80% временного ряда\n",
    "    \n",
    "    Предскажите оставшиеся 20% (как минимум 3 точки) ряда с помощью модели \n",
    "    \n",
    "    Отобразите на графике предсказание модели и истинные данные\n",
    "\n",
    "\n",
    "4. Посчитайте метрику\n",
    "\n",
    "    Метрика должна отражать разницу между предсказанными и истинными данными. Можно выбрать меру MAPE, можно предложить свою"
   ]
  },
  {
   "cell_type": "code",
   "execution_count": 1,
   "metadata": {},
   "outputs": [],
   "source": [
    "import pandas as pd"
   ]
  },
  {
   "cell_type": "code",
   "execution_count": 2,
   "metadata": {},
   "outputs": [],
   "source": [
    "df = pd.read_csv('Amazon_Historical_StockPrice2.csv')"
   ]
  },
  {
   "cell_type": "code",
   "execution_count": 3,
   "metadata": {},
   "outputs": [
    {
     "data": {
      "text/html": [
       "<div>\n",
       "<style scoped>\n",
       "    .dataframe tbody tr th:only-of-type {\n",
       "        vertical-align: middle;\n",
       "    }\n",
       "\n",
       "    .dataframe tbody tr th {\n",
       "        vertical-align: top;\n",
       "    }\n",
       "\n",
       "    .dataframe thead th {\n",
       "        text-align: right;\n",
       "    }\n",
       "</style>\n",
       "<table border=\"1\" class=\"dataframe\">\n",
       "  <thead>\n",
       "    <tr style=\"text-align: right;\">\n",
       "      <th></th>\n",
       "      <th>Date</th>\n",
       "      <th>Open</th>\n",
       "      <th>High</th>\n",
       "      <th>Low</th>\n",
       "      <th>Close</th>\n",
       "      <th>Adj Close</th>\n",
       "      <th>Volume</th>\n",
       "    </tr>\n",
       "  </thead>\n",
       "  <tbody>\n",
       "    <tr>\n",
       "      <th>0</th>\n",
       "      <td>2016-03-28</td>\n",
       "      <td>584.400024</td>\n",
       "      <td>584.750000</td>\n",
       "      <td>575.559998</td>\n",
       "      <td>579.869995</td>\n",
       "      <td>579.869995</td>\n",
       "      <td>3121500</td>\n",
       "    </tr>\n",
       "    <tr>\n",
       "      <th>1</th>\n",
       "      <td>2016-03-29</td>\n",
       "      <td>580.150024</td>\n",
       "      <td>595.849976</td>\n",
       "      <td>576.500000</td>\n",
       "      <td>593.859985</td>\n",
       "      <td>593.859985</td>\n",
       "      <td>4392600</td>\n",
       "    </tr>\n",
       "    <tr>\n",
       "      <th>2</th>\n",
       "      <td>2016-03-30</td>\n",
       "      <td>596.710022</td>\n",
       "      <td>603.239990</td>\n",
       "      <td>595.000000</td>\n",
       "      <td>598.690002</td>\n",
       "      <td>598.690002</td>\n",
       "      <td>3890500</td>\n",
       "    </tr>\n",
       "    <tr>\n",
       "      <th>3</th>\n",
       "      <td>2016-03-31</td>\n",
       "      <td>599.280029</td>\n",
       "      <td>600.750000</td>\n",
       "      <td>592.210022</td>\n",
       "      <td>593.640015</td>\n",
       "      <td>593.640015</td>\n",
       "      <td>2681800</td>\n",
       "    </tr>\n",
       "    <tr>\n",
       "      <th>4</th>\n",
       "      <td>2016-04-01</td>\n",
       "      <td>590.489990</td>\n",
       "      <td>599.030029</td>\n",
       "      <td>588.299988</td>\n",
       "      <td>598.500000</td>\n",
       "      <td>598.500000</td>\n",
       "      <td>2917400</td>\n",
       "    </tr>\n",
       "  </tbody>\n",
       "</table>\n",
       "</div>"
      ],
      "text/plain": [
       "         Date        Open        High         Low       Close   Adj Close  \\\n",
       "0  2016-03-28  584.400024  584.750000  575.559998  579.869995  579.869995   \n",
       "1  2016-03-29  580.150024  595.849976  576.500000  593.859985  593.859985   \n",
       "2  2016-03-30  596.710022  603.239990  595.000000  598.690002  598.690002   \n",
       "3  2016-03-31  599.280029  600.750000  592.210022  593.640015  593.640015   \n",
       "4  2016-04-01  590.489990  599.030029  588.299988  598.500000  598.500000   \n",
       "\n",
       "    Volume  \n",
       "0  3121500  \n",
       "1  4392600  \n",
       "2  3890500  \n",
       "3  2681800  \n",
       "4  2917400  "
      ]
     },
     "execution_count": 3,
     "metadata": {},
     "output_type": "execute_result"
    }
   ],
   "source": [
    "df.head()"
   ]
  },
  {
   "cell_type": "code",
   "execution_count": 4,
   "metadata": {},
   "outputs": [
    {
     "name": "stdout",
     "output_type": "stream",
     "text": [
      "<class 'pandas.core.frame.DataFrame'>\n",
      "RangeIndex: 1260 entries, 0 to 1259\n",
      "Data columns (total 7 columns):\n",
      " #   Column     Non-Null Count  Dtype  \n",
      "---  ------     --------------  -----  \n",
      " 0   Date       1260 non-null   object \n",
      " 1   Open       1260 non-null   float64\n",
      " 2   High       1260 non-null   float64\n",
      " 3   Low        1260 non-null   float64\n",
      " 4   Close      1260 non-null   float64\n",
      " 5   Adj Close  1260 non-null   float64\n",
      " 6   Volume     1260 non-null   int64  \n",
      "dtypes: float64(5), int64(1), object(1)\n",
      "memory usage: 69.0+ KB\n"
     ]
    }
   ],
   "source": [
    "df.info()\n"
   ]
  },
  {
   "cell_type": "code",
   "execution_count": 5,
   "metadata": {},
   "outputs": [
    {
     "data": {
      "text/html": [
       "<div>\n",
       "<style scoped>\n",
       "    .dataframe tbody tr th:only-of-type {\n",
       "        vertical-align: middle;\n",
       "    }\n",
       "\n",
       "    .dataframe tbody tr th {\n",
       "        vertical-align: top;\n",
       "    }\n",
       "\n",
       "    .dataframe thead th {\n",
       "        text-align: right;\n",
       "    }\n",
       "</style>\n",
       "<table border=\"1\" class=\"dataframe\">\n",
       "  <thead>\n",
       "    <tr style=\"text-align: right;\">\n",
       "      <th></th>\n",
       "      <th>Date</th>\n",
       "      <th>Open</th>\n",
       "      <th>High</th>\n",
       "      <th>Low</th>\n",
       "      <th>Close</th>\n",
       "      <th>Adj Close</th>\n",
       "      <th>Volume</th>\n",
       "    </tr>\n",
       "  </thead>\n",
       "  <tbody>\n",
       "    <tr>\n",
       "      <th>0</th>\n",
       "      <td>2016-03-28</td>\n",
       "      <td>584.400024</td>\n",
       "      <td>584.750000</td>\n",
       "      <td>575.559998</td>\n",
       "      <td>579.869995</td>\n",
       "      <td>579.869995</td>\n",
       "      <td>3121500</td>\n",
       "    </tr>\n",
       "    <tr>\n",
       "      <th>1</th>\n",
       "      <td>2016-03-29</td>\n",
       "      <td>580.150024</td>\n",
       "      <td>595.849976</td>\n",
       "      <td>576.500000</td>\n",
       "      <td>593.859985</td>\n",
       "      <td>593.859985</td>\n",
       "      <td>4392600</td>\n",
       "    </tr>\n",
       "    <tr>\n",
       "      <th>2</th>\n",
       "      <td>2016-03-30</td>\n",
       "      <td>596.710022</td>\n",
       "      <td>603.239990</td>\n",
       "      <td>595.000000</td>\n",
       "      <td>598.690002</td>\n",
       "      <td>598.690002</td>\n",
       "      <td>3890500</td>\n",
       "    </tr>\n",
       "    <tr>\n",
       "      <th>3</th>\n",
       "      <td>2016-03-31</td>\n",
       "      <td>599.280029</td>\n",
       "      <td>600.750000</td>\n",
       "      <td>592.210022</td>\n",
       "      <td>593.640015</td>\n",
       "      <td>593.640015</td>\n",
       "      <td>2681800</td>\n",
       "    </tr>\n",
       "    <tr>\n",
       "      <th>4</th>\n",
       "      <td>2016-04-01</td>\n",
       "      <td>590.489990</td>\n",
       "      <td>599.030029</td>\n",
       "      <td>588.299988</td>\n",
       "      <td>598.500000</td>\n",
       "      <td>598.500000</td>\n",
       "      <td>2917400</td>\n",
       "    </tr>\n",
       "  </tbody>\n",
       "</table>\n",
       "</div>"
      ],
      "text/plain": [
       "         Date        Open        High         Low       Close   Adj Close  \\\n",
       "0  2016-03-28  584.400024  584.750000  575.559998  579.869995  579.869995   \n",
       "1  2016-03-29  580.150024  595.849976  576.500000  593.859985  593.859985   \n",
       "2  2016-03-30  596.710022  603.239990  595.000000  598.690002  598.690002   \n",
       "3  2016-03-31  599.280029  600.750000  592.210022  593.640015  593.640015   \n",
       "4  2016-04-01  590.489990  599.030029  588.299988  598.500000  598.500000   \n",
       "\n",
       "    Volume  \n",
       "0  3121500  \n",
       "1  4392600  \n",
       "2  3890500  \n",
       "3  2681800  \n",
       "4  2917400  "
      ]
     },
     "execution_count": 5,
     "metadata": {},
     "output_type": "execute_result"
    }
   ],
   "source": [
    "df.head()"
   ]
  },
  {
   "cell_type": "code",
   "execution_count": 6,
   "metadata": {},
   "outputs": [],
   "source": [
    "df = df.drop(['Volume', 'Adj Close'], axis = 1)\n"
   ]
  },
  {
   "cell_type": "code",
   "execution_count": 7,
   "metadata": {},
   "outputs": [
    {
     "data": {
      "text/html": [
       "<div>\n",
       "<style scoped>\n",
       "    .dataframe tbody tr th:only-of-type {\n",
       "        vertical-align: middle;\n",
       "    }\n",
       "\n",
       "    .dataframe tbody tr th {\n",
       "        vertical-align: top;\n",
       "    }\n",
       "\n",
       "    .dataframe thead th {\n",
       "        text-align: right;\n",
       "    }\n",
       "</style>\n",
       "<table border=\"1\" class=\"dataframe\">\n",
       "  <thead>\n",
       "    <tr style=\"text-align: right;\">\n",
       "      <th></th>\n",
       "      <th>Date</th>\n",
       "      <th>Open</th>\n",
       "      <th>High</th>\n",
       "      <th>Low</th>\n",
       "      <th>Close</th>\n",
       "    </tr>\n",
       "  </thead>\n",
       "  <tbody>\n",
       "    <tr>\n",
       "      <th>0</th>\n",
       "      <td>2016-03-28</td>\n",
       "      <td>584.400024</td>\n",
       "      <td>584.750000</td>\n",
       "      <td>575.559998</td>\n",
       "      <td>579.869995</td>\n",
       "    </tr>\n",
       "    <tr>\n",
       "      <th>1</th>\n",
       "      <td>2016-03-29</td>\n",
       "      <td>580.150024</td>\n",
       "      <td>595.849976</td>\n",
       "      <td>576.500000</td>\n",
       "      <td>593.859985</td>\n",
       "    </tr>\n",
       "    <tr>\n",
       "      <th>2</th>\n",
       "      <td>2016-03-30</td>\n",
       "      <td>596.710022</td>\n",
       "      <td>603.239990</td>\n",
       "      <td>595.000000</td>\n",
       "      <td>598.690002</td>\n",
       "    </tr>\n",
       "    <tr>\n",
       "      <th>3</th>\n",
       "      <td>2016-03-31</td>\n",
       "      <td>599.280029</td>\n",
       "      <td>600.750000</td>\n",
       "      <td>592.210022</td>\n",
       "      <td>593.640015</td>\n",
       "    </tr>\n",
       "    <tr>\n",
       "      <th>4</th>\n",
       "      <td>2016-04-01</td>\n",
       "      <td>590.489990</td>\n",
       "      <td>599.030029</td>\n",
       "      <td>588.299988</td>\n",
       "      <td>598.500000</td>\n",
       "    </tr>\n",
       "  </tbody>\n",
       "</table>\n",
       "</div>"
      ],
      "text/plain": [
       "         Date        Open        High         Low       Close\n",
       "0  2016-03-28  584.400024  584.750000  575.559998  579.869995\n",
       "1  2016-03-29  580.150024  595.849976  576.500000  593.859985\n",
       "2  2016-03-30  596.710022  603.239990  595.000000  598.690002\n",
       "3  2016-03-31  599.280029  600.750000  592.210022  593.640015\n",
       "4  2016-04-01  590.489990  599.030029  588.299988  598.500000"
      ]
     },
     "execution_count": 7,
     "metadata": {},
     "output_type": "execute_result"
    }
   ],
   "source": [
    "df.head()"
   ]
  },
  {
   "cell_type": "code",
   "execution_count": 8,
   "metadata": {
    "scrolled": true
   },
   "outputs": [
    {
     "name": "stdout",
     "output_type": "stream",
     "text": [
      "<class 'pandas.core.frame.DataFrame'>\n",
      "RangeIndex: 1260 entries, 0 to 1259\n",
      "Data columns (total 5 columns):\n",
      " #   Column  Non-Null Count  Dtype  \n",
      "---  ------  --------------  -----  \n",
      " 0   Date    1260 non-null   object \n",
      " 1   Open    1260 non-null   float64\n",
      " 2   High    1260 non-null   float64\n",
      " 3   Low     1260 non-null   float64\n",
      " 4   Close   1260 non-null   float64\n",
      "dtypes: float64(4), object(1)\n",
      "memory usage: 49.3+ KB\n"
     ]
    }
   ],
   "source": [
    "df.info()"
   ]
  },
  {
   "cell_type": "code",
   "execution_count": 9,
   "metadata": {},
   "outputs": [],
   "source": [
    "dfN = df.head(1)\n",
    "\n",
    "def yearMonth (s: str) -> str:\n",
    "    \n",
    "    return s[:-3]\n",
    "\n",
    "date = yearMonth(dfN.Date[0])\n",
    "openAcc = dfN.Open[0]\n",
    "highAcc = dfN.High[0]\n",
    "lowAcc = dfN.Low[0]\n",
    "closeAcc = dfN.Close[0]"
   ]
  },
  {
   "cell_type": "code",
   "execution_count": 10,
   "metadata": {},
   "outputs": [],
   "source": [
    "\n",
    "def func(x):\n",
    "    global date\n",
    "    global highAcc\n",
    "    global lowAcc\n",
    "    global closeAcc\n",
    "    global dfN\n",
    "    global openAcc\n",
    "    \n",
    "    if (x[0].startswith(date)):\n",
    "        highAcc = max (highAcc, x[2])\n",
    "        lowAcc = min (lowAcc, x[3])\n",
    "        closeAcc = x[4]\n",
    "    else:\n",
    "        dfN = dfN.append({'Date': date, 'Open': openAcc, 'High': highAcc, 'Low': lowAcc, 'Close': closeAcc},\n",
    "                         ignore_index = True)\n",
    "        openAcc = x[1]\n",
    "        date = yearMonth(x[0])\n",
    "        \n",
    "    return x "
   ]
  },
  {
   "cell_type": "code",
   "execution_count": 11,
   "metadata": {},
   "outputs": [],
   "source": [
    "df.apply(func, axis = 1)\n",
    "dfN = dfN.append({'Date': date, 'Open': openAcc, 'High': highAcc, 'Low': lowAcc, 'Close': closeAcc},\n",
    "                         ignore_index = True)"
   ]
  },
  {
   "cell_type": "code",
   "execution_count": 12,
   "metadata": {},
   "outputs": [
    {
     "data": {
      "text/plain": [
       "<bound method NDFrame.last of           Date         Open        High         Low        Close\n",
       "0   2016-03-28   584.400024   584.75000  575.559998   579.869995\n",
       "1      2016-03   584.400024   603.23999  575.559998   593.640015\n",
       "2      2016-04   590.489990   669.97998  575.559998   659.590027\n",
       "3      2016-05   663.919983   724.22998  575.559998   722.789978\n",
       "4      2016-06   720.900024   731.50000  575.559998   715.619995\n",
       "..         ...          ...         ...         ...          ...\n",
       "57     2020-11  3061.739990  3552.25000  575.559998  3168.040039\n",
       "58     2020-12  3188.500000  3552.25000  575.559998  3256.929932\n",
       "59     2021-01  3270.000000  3552.25000  575.559998  3206.199951\n",
       "60     2021-02  3242.360107  3552.25000  575.559998  3092.929932\n",
       "61     2021-03  3127.889893  3552.25000  575.559998  3052.030029\n",
       "\n",
       "[62 rows x 5 columns]>"
      ]
     },
     "execution_count": 12,
     "metadata": {},
     "output_type": "execute_result"
    }
   ],
   "source": [
    "dfN.last"
   ]
  },
  {
   "cell_type": "code",
   "execution_count": 13,
   "metadata": {},
   "outputs": [],
   "source": [
    "dfN = dfN.drop(0)"
   ]
  },
  {
   "cell_type": "code",
   "execution_count": 14,
   "metadata": {},
   "outputs": [
    {
     "data": {
      "text/html": [
       "<div>\n",
       "<style scoped>\n",
       "    .dataframe tbody tr th:only-of-type {\n",
       "        vertical-align: middle;\n",
       "    }\n",
       "\n",
       "    .dataframe tbody tr th {\n",
       "        vertical-align: top;\n",
       "    }\n",
       "\n",
       "    .dataframe thead th {\n",
       "        text-align: right;\n",
       "    }\n",
       "</style>\n",
       "<table border=\"1\" class=\"dataframe\">\n",
       "  <thead>\n",
       "    <tr style=\"text-align: right;\">\n",
       "      <th></th>\n",
       "      <th>Date</th>\n",
       "      <th>Open</th>\n",
       "      <th>High</th>\n",
       "      <th>Low</th>\n",
       "      <th>Close</th>\n",
       "    </tr>\n",
       "  </thead>\n",
       "  <tbody>\n",
       "    <tr>\n",
       "      <th>1</th>\n",
       "      <td>2016-03</td>\n",
       "      <td>584.400024</td>\n",
       "      <td>603.23999</td>\n",
       "      <td>575.559998</td>\n",
       "      <td>593.640015</td>\n",
       "    </tr>\n",
       "    <tr>\n",
       "      <th>2</th>\n",
       "      <td>2016-04</td>\n",
       "      <td>590.489990</td>\n",
       "      <td>669.97998</td>\n",
       "      <td>575.559998</td>\n",
       "      <td>659.590027</td>\n",
       "    </tr>\n",
       "    <tr>\n",
       "      <th>3</th>\n",
       "      <td>2016-05</td>\n",
       "      <td>663.919983</td>\n",
       "      <td>724.22998</td>\n",
       "      <td>575.559998</td>\n",
       "      <td>722.789978</td>\n",
       "    </tr>\n",
       "    <tr>\n",
       "      <th>4</th>\n",
       "      <td>2016-06</td>\n",
       "      <td>720.900024</td>\n",
       "      <td>731.50000</td>\n",
       "      <td>575.559998</td>\n",
       "      <td>715.619995</td>\n",
       "    </tr>\n",
       "    <tr>\n",
       "      <th>5</th>\n",
       "      <td>2016-07</td>\n",
       "      <td>717.320007</td>\n",
       "      <td>766.00000</td>\n",
       "      <td>575.559998</td>\n",
       "      <td>758.809998</td>\n",
       "    </tr>\n",
       "  </tbody>\n",
       "</table>\n",
       "</div>"
      ],
      "text/plain": [
       "      Date        Open       High         Low       Close\n",
       "1  2016-03  584.400024  603.23999  575.559998  593.640015\n",
       "2  2016-04  590.489990  669.97998  575.559998  659.590027\n",
       "3  2016-05  663.919983  724.22998  575.559998  722.789978\n",
       "4  2016-06  720.900024  731.50000  575.559998  715.619995\n",
       "5  2016-07  717.320007  766.00000  575.559998  758.809998"
      ]
     },
     "execution_count": 14,
     "metadata": {},
     "output_type": "execute_result"
    }
   ],
   "source": [
    "dfN.head()"
   ]
  },
  {
   "cell_type": "code",
   "execution_count": 15,
   "metadata": {},
   "outputs": [
    {
     "data": {
      "text/plain": [
       "<matplotlib.axes._subplots.AxesSubplot at 0x24e17a8b610>"
      ]
     },
     "execution_count": 15,
     "metadata": {},
     "output_type": "execute_result"
    },
    {
     "data": {
      "image/png": "[encoded data removed]",
      "text/plain": [
       "<Figure size 432x288 with 1 Axes>"
      ]
     },
     "metadata": {
      "needs_background": "light"
     },
     "output_type": "display_data"
    }
   ],
   "source": [
    "dfN.High.plot()"
   ]
  },
  {
   "cell_type": "code",
   "execution_count": 16,
   "metadata": {},
   "outputs": [
    {
     "data": {
      "text/plain": [
       "<matplotlib.axes._subplots.AxesSubplot at 0x24e17b638b0>"
      ]
     },
     "execution_count": 16,
     "metadata": {},
     "output_type": "execute_result"
    },
    {
     "data": {
      "image/png": "[encoded data removed]",
      "text/plain": [
       "<Figure size 432x288 with 1 Axes>"
      ]
     },
     "metadata": {
      "needs_background": "light"
     },
     "output_type": "display_data"
    }
   ],
   "source": [
    "dfN.Open.plot()"
   ]
  },
  {
   "cell_type": "code",
   "execution_count": 17,
   "metadata": {},
   "outputs": [],
   "source": [
    "from statsmodels.tsa.stattools import adfuller"
   ]
  },
  {
   "cell_type": "code",
   "execution_count": 18,
   "metadata": {},
   "outputs": [
    {
     "name": "stdout",
     "output_type": "stream",
     "text": [
      "Полученный уровень значимости (p-value): 0.9488. 0.9488 > 0.05. Нулевая гипотеза не отвергнута в пользу альтернативной!\n"
     ]
    }
   ],
   "source": [
    "p_value = adfuller(dfN.Open)[1]\n",
    "print(\n",
    "    f'Полученный уровень значимости (p-value): {round(p_value, 4)}.',\n",
    "    f'{round(p_value, 4)} > 0.05. Нулевая гипотеза не отвергнута в пользу альтернативной!'\n",
    ")"
   ]
  },
  {
   "cell_type": "code",
   "execution_count": 19,
   "metadata": {},
   "outputs": [],
   "source": [
    "dfN['OpenDiff_1'] =  dfN.Open.diff()"
   ]
  },
  {
   "cell_type": "code",
   "execution_count": 20,
   "metadata": {},
   "outputs": [
    {
     "data": {
      "text/html": [
       "<div>\n",
       "<style scoped>\n",
       "    .dataframe tbody tr th:only-of-type {\n",
       "        vertical-align: middle;\n",
       "    }\n",
       "\n",
       "    .dataframe tbody tr th {\n",
       "        vertical-align: top;\n",
       "    }\n",
       "\n",
       "    .dataframe thead th {\n",
       "        text-align: right;\n",
       "    }\n",
       "</style>\n",
       "<table border=\"1\" class=\"dataframe\">\n",
       "  <thead>\n",
       "    <tr style=\"text-align: right;\">\n",
       "      <th></th>\n",
       "      <th>Date</th>\n",
       "      <th>Open</th>\n",
       "      <th>High</th>\n",
       "      <th>Low</th>\n",
       "      <th>Close</th>\n",
       "      <th>OpenDiff_1</th>\n",
       "    </tr>\n",
       "  </thead>\n",
       "  <tbody>\n",
       "    <tr>\n",
       "      <th>1</th>\n",
       "      <td>2016-03</td>\n",
       "      <td>584.400024</td>\n",
       "      <td>603.23999</td>\n",
       "      <td>575.559998</td>\n",
       "      <td>593.640015</td>\n",
       "      <td>NaN</td>\n",
       "    </tr>\n",
       "    <tr>\n",
       "      <th>2</th>\n",
       "      <td>2016-04</td>\n",
       "      <td>590.489990</td>\n",
       "      <td>669.97998</td>\n",
       "      <td>575.559998</td>\n",
       "      <td>659.590027</td>\n",
       "      <td>6.089966</td>\n",
       "    </tr>\n",
       "    <tr>\n",
       "      <th>3</th>\n",
       "      <td>2016-05</td>\n",
       "      <td>663.919983</td>\n",
       "      <td>724.22998</td>\n",
       "      <td>575.559998</td>\n",
       "      <td>722.789978</td>\n",
       "      <td>73.429993</td>\n",
       "    </tr>\n",
       "    <tr>\n",
       "      <th>4</th>\n",
       "      <td>2016-06</td>\n",
       "      <td>720.900024</td>\n",
       "      <td>731.50000</td>\n",
       "      <td>575.559998</td>\n",
       "      <td>715.619995</td>\n",
       "      <td>56.980042</td>\n",
       "    </tr>\n",
       "    <tr>\n",
       "      <th>5</th>\n",
       "      <td>2016-07</td>\n",
       "      <td>717.320007</td>\n",
       "      <td>766.00000</td>\n",
       "      <td>575.559998</td>\n",
       "      <td>758.809998</td>\n",
       "      <td>-3.580017</td>\n",
       "    </tr>\n",
       "  </tbody>\n",
       "</table>\n",
       "</div>"
      ],
      "text/plain": [
       "      Date        Open       High         Low       Close  OpenDiff_1\n",
       "1  2016-03  584.400024  603.23999  575.559998  593.640015         NaN\n",
       "2  2016-04  590.489990  669.97998  575.559998  659.590027    6.089966\n",
       "3  2016-05  663.919983  724.22998  575.559998  722.789978   73.429993\n",
       "4  2016-06  720.900024  731.50000  575.559998  715.619995   56.980042\n",
       "5  2016-07  717.320007  766.00000  575.559998  758.809998   -3.580017"
      ]
     },
     "execution_count": 20,
     "metadata": {},
     "output_type": "execute_result"
    }
   ],
   "source": [
    "dfN.head()"
   ]
  },
  {
   "cell_type": "code",
   "execution_count": 21,
   "metadata": {},
   "outputs": [
    {
     "data": {
      "text/plain": [
       "<matplotlib.axes._subplots.AxesSubplot at 0x24e19be1280>"
      ]
     },
     "execution_count": 21,
     "metadata": {},
     "output_type": "execute_result"
    },
    {
     "data": {
      "image/png": "[encoded data removed]",
      "text/plain": [
       "<Figure size 432x288 with 1 Axes>"
      ]
     },
     "metadata": {
      "needs_background": "light"
     },
     "output_type": "display_data"
    }
   ],
   "source": [
    "dfN.OpenDiff_1.plot()"
   ]
  },
  {
   "cell_type": "code",
   "execution_count": 22,
   "metadata": {},
   "outputs": [
    {
     "name": "stdout",
     "output_type": "stream",
     "text": [
      "Полученный уровень значимости (p-value): 0.0. 0.0 < 0.05. Нулевая гипотеза отвергается в пользу альтернативной!\n"
     ]
    }
   ],
   "source": [
    "p_value = adfuller(dfN.OpenDiff_1[1:])[1]\n",
    "\n",
    "print(\n",
    "    f'Полученный уровень значимости (p-value): {round(p_value, 4)}.',\n",
    "    f'{round(p_value, 4)} < 0.05. Нулевая гипотеза отвергается в пользу альтернативной!'\n",
    ")"
   ]
  },
  {
   "cell_type": "code",
   "execution_count": 23,
   "metadata": {},
   "outputs": [],
   "source": [
    "import numpy as np\n",
    "dfN['Openlog']= np.log(dfN.Open)"
   ]
  },
  {
   "cell_type": "code",
   "execution_count": 24,
   "metadata": {},
   "outputs": [],
   "source": [
    "dfN['OpenlogDiff_1'] = dfN.Openlog.diff()"
   ]
  },
  {
   "cell_type": "code",
   "execution_count": 25,
   "metadata": {},
   "outputs": [
    {
     "data": {
      "text/html": [
       "<div>\n",
       "<style scoped>\n",
       "    .dataframe tbody tr th:only-of-type {\n",
       "        vertical-align: middle;\n",
       "    }\n",
       "\n",
       "    .dataframe tbody tr th {\n",
       "        vertical-align: top;\n",
       "    }\n",
       "\n",
       "    .dataframe thead th {\n",
       "        text-align: right;\n",
       "    }\n",
       "</style>\n",
       "<table border=\"1\" class=\"dataframe\">\n",
       "  <thead>\n",
       "    <tr style=\"text-align: right;\">\n",
       "      <th></th>\n",
       "      <th>Date</th>\n",
       "      <th>Open</th>\n",
       "      <th>High</th>\n",
       "      <th>Low</th>\n",
       "      <th>Close</th>\n",
       "      <th>OpenDiff_1</th>\n",
       "      <th>Openlog</th>\n",
       "      <th>OpenlogDiff_1</th>\n",
       "    </tr>\n",
       "  </thead>\n",
       "  <tbody>\n",
       "    <tr>\n",
       "      <th>1</th>\n",
       "      <td>2016-03</td>\n",
       "      <td>584.400024</td>\n",
       "      <td>603.23999</td>\n",
       "      <td>575.559998</td>\n",
       "      <td>593.640015</td>\n",
       "      <td>NaN</td>\n",
       "      <td>6.370586</td>\n",
       "      <td>NaN</td>\n",
       "    </tr>\n",
       "    <tr>\n",
       "      <th>2</th>\n",
       "      <td>2016-04</td>\n",
       "      <td>590.489990</td>\n",
       "      <td>669.97998</td>\n",
       "      <td>575.559998</td>\n",
       "      <td>659.590027</td>\n",
       "      <td>6.089966</td>\n",
       "      <td>6.380953</td>\n",
       "      <td>0.010367</td>\n",
       "    </tr>\n",
       "    <tr>\n",
       "      <th>3</th>\n",
       "      <td>2016-05</td>\n",
       "      <td>663.919983</td>\n",
       "      <td>724.22998</td>\n",
       "      <td>575.559998</td>\n",
       "      <td>722.789978</td>\n",
       "      <td>73.429993</td>\n",
       "      <td>6.498162</td>\n",
       "      <td>0.117209</td>\n",
       "    </tr>\n",
       "    <tr>\n",
       "      <th>4</th>\n",
       "      <td>2016-06</td>\n",
       "      <td>720.900024</td>\n",
       "      <td>731.50000</td>\n",
       "      <td>575.559998</td>\n",
       "      <td>715.619995</td>\n",
       "      <td>56.980042</td>\n",
       "      <td>6.580500</td>\n",
       "      <td>0.082339</td>\n",
       "    </tr>\n",
       "    <tr>\n",
       "      <th>5</th>\n",
       "      <td>2016-07</td>\n",
       "      <td>717.320007</td>\n",
       "      <td>766.00000</td>\n",
       "      <td>575.559998</td>\n",
       "      <td>758.809998</td>\n",
       "      <td>-3.580017</td>\n",
       "      <td>6.575522</td>\n",
       "      <td>-0.004978</td>\n",
       "    </tr>\n",
       "  </tbody>\n",
       "</table>\n",
       "</div>"
      ],
      "text/plain": [
       "      Date        Open       High         Low       Close  OpenDiff_1  \\\n",
       "1  2016-03  584.400024  603.23999  575.559998  593.640015         NaN   \n",
       "2  2016-04  590.489990  669.97998  575.559998  659.590027    6.089966   \n",
       "3  2016-05  663.919983  724.22998  575.559998  722.789978   73.429993   \n",
       "4  2016-06  720.900024  731.50000  575.559998  715.619995   56.980042   \n",
       "5  2016-07  717.320007  766.00000  575.559998  758.809998   -3.580017   \n",
       "\n",
       "    Openlog  OpenlogDiff_1  \n",
       "1  6.370586            NaN  \n",
       "2  6.380953       0.010367  \n",
       "3  6.498162       0.117209  \n",
       "4  6.580500       0.082339  \n",
       "5  6.575522      -0.004978  "
      ]
     },
     "execution_count": 25,
     "metadata": {},
     "output_type": "execute_result"
    }
   ],
   "source": [
    "dfN.head()"
   ]
  },
  {
   "cell_type": "code",
   "execution_count": 26,
   "metadata": {},
   "outputs": [
    {
     "data": {
      "text/plain": [
       "<matplotlib.axes._subplots.AxesSubplot at 0x24e19ba5d00>"
      ]
     },
     "execution_count": 26,
     "metadata": {},
     "output_type": "execute_result"
    },
    {
     "data": {
      "image/png": "[encoded data removed]",
      "text/plain": [
       "<Figure size 432x288 with 1 Axes>"
      ]
     },
     "metadata": {
      "needs_background": "light"
     },
     "output_type": "display_data"
    }
   ],
   "source": [
    "dfN['OpenlogDiff_1'].plot()"
   ]
  },
  {
   "cell_type": "code",
   "execution_count": 27,
   "metadata": {},
   "outputs": [
    {
     "data": {
      "text/plain": [
       "<matplotlib.axes._subplots.AxesSubplot at 0x24e1a319610>"
      ]
     },
     "execution_count": 27,
     "metadata": {},
     "output_type": "execute_result"
    },
    {
     "data": {
      "image/png": "[encoded data removed]",
      "text/plain": [
       "<Figure size 432x288 with 1 Axes>"
      ]
     },
     "metadata": {
      "needs_background": "light"
     },
     "output_type": "display_data"
    }
   ],
   "source": [
    "dfN['OpenlogDiff_1'].hist()"
   ]
  },
  {
   "cell_type": "code",
   "execution_count": 28,
   "metadata": {},
   "outputs": [],
   "source": [
    "dfN['Date'] = pd.to_datetime(dfN['Date'])"
   ]
  },
  {
   "cell_type": "code",
   "execution_count": 29,
   "metadata": {},
   "outputs": [],
   "source": [
    "dfN = dfN.set_index(['Date'])"
   ]
  },
  {
   "cell_type": "code",
   "execution_count": 30,
   "metadata": {},
   "outputs": [],
   "source": [
    "dfN = dfN.drop(['High', 'Low', 'Close', 'Open', 'Openlog', 'OpenlogDiff_1'], axis=1)"
   ]
  },
  {
   "cell_type": "code",
   "execution_count": 31,
   "metadata": {},
   "outputs": [],
   "source": [
    "dfN = dfN.dropna()"
   ]
  },
  {
   "cell_type": "code",
   "execution_count": 32,
   "metadata": {},
   "outputs": [
    {
     "data": {
      "text/html": [
       "<div>\n",
       "<style scoped>\n",
       "    .dataframe tbody tr th:only-of-type {\n",
       "        vertical-align: middle;\n",
       "    }\n",
       "\n",
       "    .dataframe tbody tr th {\n",
       "        vertical-align: top;\n",
       "    }\n",
       "\n",
       "    .dataframe thead th {\n",
       "        text-align: right;\n",
       "    }\n",
       "</style>\n",
       "<table border=\"1\" class=\"dataframe\">\n",
       "  <thead>\n",
       "    <tr style=\"text-align: right;\">\n",
       "      <th></th>\n",
       "      <th>OpenDiff_1</th>\n",
       "    </tr>\n",
       "    <tr>\n",
       "      <th>Date</th>\n",
       "      <th></th>\n",
       "    </tr>\n",
       "  </thead>\n",
       "  <tbody>\n",
       "    <tr>\n",
       "      <th>2016-04-01</th>\n",
       "      <td>6.089966</td>\n",
       "    </tr>\n",
       "    <tr>\n",
       "      <th>2016-05-01</th>\n",
       "      <td>73.429993</td>\n",
       "    </tr>\n",
       "    <tr>\n",
       "      <th>2016-06-01</th>\n",
       "      <td>56.980042</td>\n",
       "    </tr>\n",
       "    <tr>\n",
       "      <th>2016-07-01</th>\n",
       "      <td>-3.580017</td>\n",
       "    </tr>\n",
       "    <tr>\n",
       "      <th>2016-08-01</th>\n",
       "      <td>42.549988</td>\n",
       "    </tr>\n",
       "  </tbody>\n",
       "</table>\n",
       "</div>"
      ],
      "text/plain": [
       "            OpenDiff_1\n",
       "Date                  \n",
       "2016-04-01    6.089966\n",
       "2016-05-01   73.429993\n",
       "2016-06-01   56.980042\n",
       "2016-07-01   -3.580017\n",
       "2016-08-01   42.549988"
      ]
     },
     "execution_count": 32,
     "metadata": {},
     "output_type": "execute_result"
    }
   ],
   "source": [
    "dfN.head()"
   ]
  },
  {
   "cell_type": "code",
   "execution_count": 33,
   "metadata": {},
   "outputs": [
    {
     "data": {
      "text/plain": [
       "<matplotlib.axes._subplots.AxesSubplot at 0x24e1a376b80>"
      ]
     },
     "execution_count": 33,
     "metadata": {},
     "output_type": "execute_result"
    },
    {
     "data": {
      "image/png": "[encoded data removed]",
      "text/plain": [
       "<Figure size 432x288 with 1 Axes>"
      ]
     },
     "metadata": {
      "needs_background": "light"
     },
     "output_type": "display_data"
    }
   ],
   "source": [
    "dfN['OpenDiff_1'].hist()"
   ]
  },
  {
   "cell_type": "code",
   "execution_count": 34,
   "metadata": {},
   "outputs": [],
   "source": [
    "from statsmodels.tsa.seasonal import seasonal_decompose"
   ]
  },
  {
   "cell_type": "code",
   "execution_count": 35,
   "metadata": {},
   "outputs": [],
   "source": [
    "#decomposition = seasonal_decompose(dfN['OpenDiff_1'])"
   ]
  },
  {
   "cell_type": "code",
   "execution_count": 36,
   "metadata": {},
   "outputs": [],
   "source": [
    "import statsmodels"
   ]
  },
  {
   "cell_type": "code",
   "execution_count": 37,
   "metadata": {},
   "outputs": [],
   "source": [
    "from statsmodels.graphics.tsaplots import plot_acf, plot_pacf"
   ]
  },
  {
   "cell_type": "code",
   "execution_count": 38,
   "metadata": {},
   "outputs": [
    {
     "data": {
      "image/png": "[encoded data removed]",
      "text/plain": [
       "<Figure size 432x288 with 1 Axes>"
      ]
     },
     "execution_count": 38,
     "metadata": {},
     "output_type": "execute_result"
    },
    {
     "data": {
      "image/png": "[encoded data removed]",
      "text/plain": [
       "<Figure size 432x288 with 1 Axes>"
      ]
     },
     "metadata": {
      "needs_background": "light"
     },
     "output_type": "display_data"
    }
   ],
   "source": [
    "statsmodels.graphics.tsaplots.plot_acf(dfN['OpenDiff_1'])"
   ]
  },
  {
   "cell_type": "code",
   "execution_count": 39,
   "metadata": {},
   "outputs": [
    {
     "data": {
      "image/png": "[encoded data removed]",
      "text/plain": [
       "<Figure size 432x288 with 1 Axes>"
      ]
     },
     "execution_count": 39,
     "metadata": {},
     "output_type": "execute_result"
    },
    {
     "data": {
      "image/png": "[encoded data removed]",
      "text/plain": [
       "<Figure size 432x288 with 1 Axes>"
      ]
     },
     "metadata": {
      "needs_background": "light"
     },
     "output_type": "display_data"
    }
   ],
   "source": [
    "statsmodels.graphics.tsaplots.plot_pacf(dfN['OpenDiff_1'])"
   ]
  },
  {
   "cell_type": "code",
   "execution_count": null,
   "metadata": {},
   "outputs": [],
   "source": [
    "d=1\n",
    "D=1\n",
    "\n",
    "qs = range(1, 5)\n",
    "Qs = range(1, 3)\n",
    "\n",
    "ps = range(1, 5)\n",
    "Ps = range(3, 5)"
   ]
  },
  {
   "cell_type": "code",
   "execution_count": null,
   "metadata": {},
   "outputs": [],
   "source": [
    "dft = dfN.head()\n",
    "# "
   ]
  },
  {
   "cell_type": "code",
   "execution_count": null,
   "metadata": {},
   "outputs": [],
   "source": [
    "from statsmodels.tsa.arima_model import ARMA\n",
    "from tqdm import tqdm\n",
    "from sklearn.model_selection import train_test_split"
   ]
  },
  {
   "cell_type": "code",
   "execution_count": null,
   "metadata": {},
   "outputs": [],
   "source": [
    "#arma = ARMA(ts, order=(p, q)).fit()"
   ]
  },
  {
   "cell_type": "code",
   "execution_count": null,
   "metadata": {},
   "outputs": [],
   "source": []
  }
 ],
 "metadata": {
  "kernelspec": {
   "display_name": "Python 3",
   "language": "python",
   "name": "python3"
  },
  "language_info": {
   "codemirror_mode": {
    "name": "ipython",
    "version": 3
   },
   "file_extension": ".py",
   "mimetype": "text/x-python",
   "name": "python",
   "nbconvert_exporter": "python",
   "pygments_lexer": "ipython3",
   "version": "3.8.3"
  }
 },
 "nbformat": 4,
 "nbformat_minor": 5
}
