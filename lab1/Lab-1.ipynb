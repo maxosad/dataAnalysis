{
 "cells": [
  {
   "cell_type": "markdown",
   "id": "90a0e4f2",
   "metadata": {},
   "source": [
    "# 1. Предобработка\n",
    "\n",
    "\n",
    "Выберите набор данных из списка в конце задания. Обработайте данные в нём:\n",
    "\n",
    "1. Обработайте недостающие данные в датасете - удалить/заменить/etc, обоснуйте своё решение\n",
    "1. Постройте как минимум по 1 графику каждого типа из представленных на лекции. Для каждого построенного графика объясните почему отображённые данные лучше всего представимы именно этим типом графика\n",
    "1. Сохраните датасет\n",
    "\n",
    "\n",
    "1. Создайте новую колонку, отображающую характеристику набора данных. Новая колонка должна обладать смысловой нагрузкой. \n",
    "\n",
    "    Например, для набора данных о прямоугольниках с двумя колонками width и height будет корректно придумать колонку square, равную width*height или perimeter Некорректно будет придумать колонку width2, равную width*2, потому что эта информация не будет нести полезную информацию о фигурах\n",
    "\n",
    "Не оценивается баллами, но даёт очки уважения:\n",
    "1. Выдвиньте 2 гипотезы о данных. Например, для датасета codeforces достаточно интересной гипотезой может быть \"простые задачи (рейтинг меньше 1500) почти всегда решаются больше 5000 раз\"\n",
    "\n",
    "\n",
    "Наборы данных:\n",
    "\n",
    "1. [Spotify Tracks DB](https://www.kaggle.com/zaheenhamidani/ultimate-spotify-tracks-db) - характеристики треков в spotify\n",
    "1. [VKontakte Dataset of Users' Textual Data](https://www.kaggle.com/oldaandozerskaya/vkontakte-dataset-of-users-textual-data) 1. основная информация 10к профилей ВК\n",
    "1. [Data Science for COVID-19](https://www.kaggle.com/kimjihoo/coronavirusdataset) - информация о распространении коронавируса в Южной Корее в 2020 году\n",
    "1. [Dota 2 - Pro Players Matches Results 2019 ~ 2021](https://www.kaggle.com/devinanzelmo/dota-2-matches?select=player_ratings.csv) - информация матчей игроков DoTA 2. Если данные не влезают в память, можно воспользоваться [аналогом pandas](https://dask.org/) для обработки вне RAM\n",
    "1. [GPS Data of Seabirds](https://www.kaggle.com/saurabhshahane/predicting-animal-behavior-using-gps) - данные о миграции птиц\n",
    "1. [FAANG Historical Stock Price Data](https://www.kaggle.com/specter7/amazon-amzn-historical-stock-price-data) -  данные о биржевых котировках компаний FAANG c 2016 по 2021 год\n",
    "1. [NBA 2k20 player dataset](https://www.kaggle.com/isaienkov/nba2k20-player-dataset) - информация об игроках NBA\n",
    " [Anime dataset](https://www.kaggle.com/thunderz/anime-dataset?select=user_data.csv) - данные о просмотре аниме пользователями с сайта myAnimeList"
   ]
  },
  {
   "cell_type": "code",
   "execution_count": 1,
   "id": "b51dbbe8",
   "metadata": {
    "scrolled": true
   },
   "outputs": [
    {
     "data": {
      "text/plain": [
       "<AxesSubplot:>"
      ]
     },
     "execution_count": 1,
     "metadata": {},
     "output_type": "execute_result"
    },
    {
     "data": {
      "image/png": "[encoded data removed]",
      "text/plain": [
       "<Figure size 432x288 with 1 Axes>"
      ]
     },
     "metadata": {
      "needs_background": "light"
     },
     "output_type": "display_data"
    }
   ],
   "source": [
    "import pandas as pd\n",
    "\n",
    "df = pd.read_csv('nba2k20-full.csv')\n",
    "\n",
    "def eraseDollar(value: object ) -> int:\n",
    "    return int(value.replace(\"$\", \"\"))\n",
    "\n",
    "df1 = df\n",
    "\n",
    "\n",
    "#df.fillna(0)\n",
    "\n",
    "# colledge team has nan\n",
    "\n",
    "df1.salary = df.salary.apply(eraseDollar)\n",
    "df2 = df1.dropna(axis = 1)\n",
    "df2.to_csv('myNba2k20-full.csv')\n",
    "\n",
    "df2.rating.plot()\n"
   ]
  },
  {
   "cell_type": "code",
   "execution_count": 2,
   "id": "d673c4b8",
   "metadata": {},
   "outputs": [
    {
     "data": {
      "text/html": [
       "<div>\n",
       "<style scoped>\n",
       "    .dataframe tbody tr th:only-of-type {\n",
       "        vertical-align: middle;\n",
       "    }\n",
       "\n",
       "    .dataframe tbody tr th {\n",
       "        vertical-align: top;\n",
       "    }\n",
       "\n",
       "    .dataframe thead th {\n",
       "        text-align: right;\n",
       "    }\n",
       "</style>\n",
       "<table border=\"1\" class=\"dataframe\">\n",
       "  <thead>\n",
       "    <tr style=\"text-align: right;\">\n",
       "      <th></th>\n",
       "      <th>full_name</th>\n",
       "      <th>rating</th>\n",
       "      <th>jersey</th>\n",
       "      <th>position</th>\n",
       "      <th>b_day</th>\n",
       "      <th>height</th>\n",
       "      <th>weight</th>\n",
       "      <th>salary</th>\n",
       "      <th>country</th>\n",
       "      <th>draft_year</th>\n",
       "      <th>draft_round</th>\n",
       "      <th>draft_peak</th>\n",
       "    </tr>\n",
       "  </thead>\n",
       "  <tbody>\n",
       "    <tr>\n",
       "      <th>0</th>\n",
       "      <td>LeBron James</td>\n",
       "      <td>97</td>\n",
       "      <td>#23</td>\n",
       "      <td>F</td>\n",
       "      <td>12/30/84</td>\n",
       "      <td>6-9 / 2.06</td>\n",
       "      <td>250 lbs. / 113.4 kg.</td>\n",
       "      <td>37436858</td>\n",
       "      <td>USA</td>\n",
       "      <td>2003</td>\n",
       "      <td>1</td>\n",
       "      <td>1</td>\n",
       "    </tr>\n",
       "    <tr>\n",
       "      <th>1</th>\n",
       "      <td>Kawhi Leonard</td>\n",
       "      <td>97</td>\n",
       "      <td>#2</td>\n",
       "      <td>F</td>\n",
       "      <td>06/29/91</td>\n",
       "      <td>6-7 / 2.01</td>\n",
       "      <td>225 lbs. / 102.1 kg.</td>\n",
       "      <td>32742000</td>\n",
       "      <td>USA</td>\n",
       "      <td>2011</td>\n",
       "      <td>1</td>\n",
       "      <td>15</td>\n",
       "    </tr>\n",
       "    <tr>\n",
       "      <th>2</th>\n",
       "      <td>Giannis Antetokounmpo</td>\n",
       "      <td>96</td>\n",
       "      <td>#34</td>\n",
       "      <td>F-G</td>\n",
       "      <td>12/06/94</td>\n",
       "      <td>6-11 / 2.11</td>\n",
       "      <td>242 lbs. / 109.8 kg.</td>\n",
       "      <td>25842697</td>\n",
       "      <td>Greece</td>\n",
       "      <td>2013</td>\n",
       "      <td>1</td>\n",
       "      <td>15</td>\n",
       "    </tr>\n",
       "    <tr>\n",
       "      <th>3</th>\n",
       "      <td>Kevin Durant</td>\n",
       "      <td>96</td>\n",
       "      <td>#7</td>\n",
       "      <td>F</td>\n",
       "      <td>09/29/88</td>\n",
       "      <td>6-10 / 2.08</td>\n",
       "      <td>230 lbs. / 104.3 kg.</td>\n",
       "      <td>37199000</td>\n",
       "      <td>USA</td>\n",
       "      <td>2007</td>\n",
       "      <td>1</td>\n",
       "      <td>2</td>\n",
       "    </tr>\n",
       "    <tr>\n",
       "      <th>4</th>\n",
       "      <td>James Harden</td>\n",
       "      <td>96</td>\n",
       "      <td>#13</td>\n",
       "      <td>G</td>\n",
       "      <td>08/26/89</td>\n",
       "      <td>6-5 / 1.96</td>\n",
       "      <td>220 lbs. / 99.8 kg.</td>\n",
       "      <td>38199000</td>\n",
       "      <td>USA</td>\n",
       "      <td>2009</td>\n",
       "      <td>1</td>\n",
       "      <td>3</td>\n",
       "    </tr>\n",
       "  </tbody>\n",
       "</table>\n",
       "</div>"
      ],
      "text/plain": [
       "               full_name  rating jersey position     b_day       height  \\\n",
       "0           LeBron James      97    #23        F  12/30/84   6-9 / 2.06   \n",
       "1          Kawhi Leonard      97     #2        F  06/29/91   6-7 / 2.01   \n",
       "2  Giannis Antetokounmpo      96    #34      F-G  12/06/94  6-11 / 2.11   \n",
       "3           Kevin Durant      96     #7        F  09/29/88  6-10 / 2.08   \n",
       "4           James Harden      96    #13        G  08/26/89   6-5 / 1.96   \n",
       "\n",
       "                 weight    salary country  draft_year draft_round draft_peak  \n",
       "0  250 lbs. / 113.4 kg.  37436858     USA        2003           1          1  \n",
       "1  225 lbs. / 102.1 kg.  32742000     USA        2011           1         15  \n",
       "2  242 lbs. / 109.8 kg.  25842697  Greece        2013           1         15  \n",
       "3  230 lbs. / 104.3 kg.  37199000     USA        2007           1          2  \n",
       "4   220 lbs. / 99.8 kg.  38199000     USA        2009           1          3  "
      ]
     },
     "execution_count": 2,
     "metadata": {},
     "output_type": "execute_result"
    }
   ],
   "source": [
    "df2.head()"
   ]
  },
  {
   "cell_type": "code",
   "execution_count": 3,
   "id": "9d8baf8d",
   "metadata": {},
   "outputs": [
    {
     "data": {
      "text/plain": [
       "<AxesSubplot:>"
      ]
     },
     "execution_count": 3,
     "metadata": {},
     "output_type": "execute_result"
    },
    {
     "data": {
      "image/png": "[encoded data removed]",
      "text/plain": [
       "<Figure size 432x288 with 1 Axes>"
      ]
     },
     "metadata": {
      "needs_background": "light"
     },
     "output_type": "display_data"
    }
   ],
   "source": [
    "df2.rating.hist()"
   ]
  },
  {
   "cell_type": "code",
   "execution_count": 4,
   "id": "7f913cbc",
   "metadata": {},
   "outputs": [
    {
     "data": {
      "image/png": "[encoded data removed]",
      "text/plain": [
       "<Figure size 432x288 with 1 Axes>"
      ]
     },
     "metadata": {
      "needs_background": "light"
     },
     "output_type": "display_data"
    }
   ],
   "source": [
    "import matplotlib.pyplot as plt\n",
    "\n",
    "y = [1, 2, 3, 4, 5]\n",
    "\n",
    "plt.hist2d(df2.salary, \n",
    "           df2.rating,\n",
    "\n",
    "          )\n",
    "\n",
    "\n",
    "\n",
    "plt.show()\n"
   ]
  },
  {
   "cell_type": "code",
   "execution_count": 5,
   "id": "178bad30",
   "metadata": {},
   "outputs": [
    {
     "data": {
      "text/plain": [
       "<matplotlib.collections.PathCollection at 0x1f01995cd30>"
      ]
     },
     "execution_count": 5,
     "metadata": {},
     "output_type": "execute_result"
    },
    {
     "data": {
      "image/png": "[encoded data removed]",
      "text/plain": [
       "<Figure size 432x288 with 1 Axes>"
      ]
     },
     "metadata": {
      "needs_background": "light"
     },
     "output_type": "display_data"
    }
   ],
   "source": [
    "plt.scatter(df2.salary, \n",
    "            df2.rating,\n",
    "#             s=3,  # Меняет размер точки\n",
    "           )"
   ]
  },
  {
   "cell_type": "code",
   "execution_count": 6,
   "id": "2d4fb8d6",
   "metadata": {},
   "outputs": [
    {
     "data": {
      "text/plain": [
       "{'whiskers': [<matplotlib.lines.Line2D at 0x1f0199d6b80>,\n",
       "  <matplotlib.lines.Line2D at 0x1f0199d6f10>],\n",
       " 'caps': [<matplotlib.lines.Line2D at 0x1f0199e82e0>,\n",
       "  <matplotlib.lines.Line2D at 0x1f0199e8670>],\n",
       " 'boxes': [<matplotlib.lines.Line2D at 0x1f0199d67f0>],\n",
       " 'medians': [<matplotlib.lines.Line2D at 0x1f0199e8a00>],\n",
       " 'fliers': [<matplotlib.lines.Line2D at 0x1f0199e8d90>],\n",
       " 'means': []}"
      ]
     },
     "execution_count": 6,
     "metadata": {},
     "output_type": "execute_result"
    },
    {
     "data": {
      "image/png": "[encoded data removed]",
      "text/plain": [
       "<Figure size 432x288 with 1 Axes>"
      ]
     },
     "metadata": {
      "needs_background": "light"
     },
     "output_type": "display_data"
    }
   ],
   "source": [
    "plt.boxplot(df2.rating,\n",
    "            vert=False, # Ориентация графика\n",
    "            whis=0.95,  # Насколько редкие записи будут находиться вне \"усов\" boxplot'а\n",
    "                        # 0.95 означает, что не будут охвачены записи, которые встречаются\n",
    "                        # реже, чем 5% данных. Более строгое определение квантиля будет \n",
    "                        # будет дано в следующих лекциях)\n",
    "           )"
   ]
  },
  {
   "cell_type": "code",
   "execution_count": 7,
   "id": "6cec218e",
   "metadata": {},
   "outputs": [
    {
     "data": {
      "image/png": "[encoded data removed]",
      "text/plain": [
       "<Figure size 432x288 with 1 Axes>"
      ]
     },
     "metadata": {
      "needs_background": "light"
     },
     "output_type": "display_data"
    }
   ],
   "source": [
    "from math import sin, cos\n",
    "from mpl_toolkits import mplot3d\n",
    "\n",
    "\n",
    "ax = plt.axes(projection='3d')\n",
    "\n",
    "z = df2.rating\n",
    "x = df2.salary\n",
    "y = df2.draft_year\n",
    "\n",
    "\n",
    "# Хитрая формула цвета зависит от координат точки\n",
    "color = [xi + yi for xi, yi in zip(x, y)]\n",
    "\n",
    "ax.scatter(x, y, z, c=color)\n",
    "ax.set_title('3d Scatter plot')\n",
    "plt.show()"
   ]
  },
  {
   "cell_type": "code",
   "execution_count": 8,
   "id": "910d1367",
   "metadata": {},
   "outputs": [
    {
     "data": {
      "text/html": [
       "<div>\n",
       "<style scoped>\n",
       "    .dataframe tbody tr th:only-of-type {\n",
       "        vertical-align: middle;\n",
       "    }\n",
       "\n",
       "    .dataframe tbody tr th {\n",
       "        vertical-align: top;\n",
       "    }\n",
       "\n",
       "    .dataframe thead th {\n",
       "        text-align: right;\n",
       "    }\n",
       "</style>\n",
       "<table border=\"1\" class=\"dataframe\">\n",
       "  <thead>\n",
       "    <tr style=\"text-align: right;\">\n",
       "      <th></th>\n",
       "      <th>full_name</th>\n",
       "      <th>rating</th>\n",
       "      <th>jersey</th>\n",
       "      <th>position</th>\n",
       "      <th>b_day</th>\n",
       "      <th>height</th>\n",
       "      <th>weight</th>\n",
       "      <th>salary</th>\n",
       "      <th>country</th>\n",
       "      <th>draft_year</th>\n",
       "      <th>draft_round</th>\n",
       "      <th>draft_peak</th>\n",
       "      <th>unit_salary_rating</th>\n",
       "    </tr>\n",
       "  </thead>\n",
       "  <tbody>\n",
       "    <tr>\n",
       "      <th>0</th>\n",
       "      <td>LeBron James</td>\n",
       "      <td>97</td>\n",
       "      <td>#23</td>\n",
       "      <td>F</td>\n",
       "      <td>12/30/84</td>\n",
       "      <td>6-9 / 2.06</td>\n",
       "      <td>250 lbs. / 113.4 kg.</td>\n",
       "      <td>37436858</td>\n",
       "      <td>USA</td>\n",
       "      <td>2003</td>\n",
       "      <td>1</td>\n",
       "      <td>1</td>\n",
       "      <td>385946.989691</td>\n",
       "    </tr>\n",
       "    <tr>\n",
       "      <th>1</th>\n",
       "      <td>Kawhi Leonard</td>\n",
       "      <td>97</td>\n",
       "      <td>#2</td>\n",
       "      <td>F</td>\n",
       "      <td>06/29/91</td>\n",
       "      <td>6-7 / 2.01</td>\n",
       "      <td>225 lbs. / 102.1 kg.</td>\n",
       "      <td>32742000</td>\n",
       "      <td>USA</td>\n",
       "      <td>2011</td>\n",
       "      <td>1</td>\n",
       "      <td>15</td>\n",
       "      <td>337546.391753</td>\n",
       "    </tr>\n",
       "    <tr>\n",
       "      <th>2</th>\n",
       "      <td>Giannis Antetokounmpo</td>\n",
       "      <td>96</td>\n",
       "      <td>#34</td>\n",
       "      <td>F-G</td>\n",
       "      <td>12/06/94</td>\n",
       "      <td>6-11 / 2.11</td>\n",
       "      <td>242 lbs. / 109.8 kg.</td>\n",
       "      <td>25842697</td>\n",
       "      <td>Greece</td>\n",
       "      <td>2013</td>\n",
       "      <td>1</td>\n",
       "      <td>15</td>\n",
       "      <td>269194.760417</td>\n",
       "    </tr>\n",
       "    <tr>\n",
       "      <th>3</th>\n",
       "      <td>Kevin Durant</td>\n",
       "      <td>96</td>\n",
       "      <td>#7</td>\n",
       "      <td>F</td>\n",
       "      <td>09/29/88</td>\n",
       "      <td>6-10 / 2.08</td>\n",
       "      <td>230 lbs. / 104.3 kg.</td>\n",
       "      <td>37199000</td>\n",
       "      <td>USA</td>\n",
       "      <td>2007</td>\n",
       "      <td>1</td>\n",
       "      <td>2</td>\n",
       "      <td>387489.583333</td>\n",
       "    </tr>\n",
       "    <tr>\n",
       "      <th>4</th>\n",
       "      <td>James Harden</td>\n",
       "      <td>96</td>\n",
       "      <td>#13</td>\n",
       "      <td>G</td>\n",
       "      <td>08/26/89</td>\n",
       "      <td>6-5 / 1.96</td>\n",
       "      <td>220 lbs. / 99.8 kg.</td>\n",
       "      <td>38199000</td>\n",
       "      <td>USA</td>\n",
       "      <td>2009</td>\n",
       "      <td>1</td>\n",
       "      <td>3</td>\n",
       "      <td>397906.250000</td>\n",
       "    </tr>\n",
       "    <tr>\n",
       "      <th>...</th>\n",
       "      <td>...</td>\n",
       "      <td>...</td>\n",
       "      <td>...</td>\n",
       "      <td>...</td>\n",
       "      <td>...</td>\n",
       "      <td>...</td>\n",
       "      <td>...</td>\n",
       "      <td>...</td>\n",
       "      <td>...</td>\n",
       "      <td>...</td>\n",
       "      <td>...</td>\n",
       "      <td>...</td>\n",
       "      <td>...</td>\n",
       "    </tr>\n",
       "    <tr>\n",
       "      <th>424</th>\n",
       "      <td>Brandon Goodwin</td>\n",
       "      <td>68</td>\n",
       "      <td>#0</td>\n",
       "      <td>G</td>\n",
       "      <td>10/02/95</td>\n",
       "      <td>6-0 / 1.83</td>\n",
       "      <td>180 lbs. / 81.6 kg.</td>\n",
       "      <td>522738</td>\n",
       "      <td>USA</td>\n",
       "      <td>2018</td>\n",
       "      <td>Undrafted</td>\n",
       "      <td>Undrafted</td>\n",
       "      <td>7687.323529</td>\n",
       "    </tr>\n",
       "    <tr>\n",
       "      <th>425</th>\n",
       "      <td>Michael Frazier</td>\n",
       "      <td>68</td>\n",
       "      <td>#21</td>\n",
       "      <td>G</td>\n",
       "      <td>03/08/94</td>\n",
       "      <td>6-3 / 1.91</td>\n",
       "      <td>200 lbs. / 90.7 kg.</td>\n",
       "      <td>79568</td>\n",
       "      <td>USA</td>\n",
       "      <td>2015</td>\n",
       "      <td>2</td>\n",
       "      <td>60</td>\n",
       "      <td>1170.117647</td>\n",
       "    </tr>\n",
       "    <tr>\n",
       "      <th>426</th>\n",
       "      <td>Kostas Antetokounmpo</td>\n",
       "      <td>68</td>\n",
       "      <td>#37</td>\n",
       "      <td>F</td>\n",
       "      <td>11/20/97</td>\n",
       "      <td>6-10 / 2.08</td>\n",
       "      <td>200 lbs. / 90.7 kg.</td>\n",
       "      <td>79568</td>\n",
       "      <td>Greece</td>\n",
       "      <td>2018</td>\n",
       "      <td>Undrafted</td>\n",
       "      <td>Undrafted</td>\n",
       "      <td>1170.117647</td>\n",
       "    </tr>\n",
       "    <tr>\n",
       "      <th>427</th>\n",
       "      <td>Jalen Lecque</td>\n",
       "      <td>68</td>\n",
       "      <td>#0</td>\n",
       "      <td>G</td>\n",
       "      <td>06/13/00</td>\n",
       "      <td>6-3 / 1.91</td>\n",
       "      <td>190 lbs. / 86.2 kg.</td>\n",
       "      <td>898310</td>\n",
       "      <td>USA</td>\n",
       "      <td>2019</td>\n",
       "      <td>Undrafted</td>\n",
       "      <td>Undrafted</td>\n",
       "      <td>13210.441176</td>\n",
       "    </tr>\n",
       "    <tr>\n",
       "      <th>428</th>\n",
       "      <td>Duncan Robinson</td>\n",
       "      <td>67</td>\n",
       "      <td>#55</td>\n",
       "      <td>F</td>\n",
       "      <td>04/22/94</td>\n",
       "      <td>6-7 / 2.01</td>\n",
       "      <td>215 lbs. / 97.5 kg.</td>\n",
       "      <td>1416852</td>\n",
       "      <td>USA</td>\n",
       "      <td>2018</td>\n",
       "      <td>Undrafted</td>\n",
       "      <td>Undrafted</td>\n",
       "      <td>21147.044776</td>\n",
       "    </tr>\n",
       "  </tbody>\n",
       "</table>\n",
       "<p>429 rows × 13 columns</p>\n",
       "</div>"
      ],
      "text/plain": [
       "                 full_name  rating jersey position     b_day       height  \\\n",
       "0             LeBron James      97    #23        F  12/30/84   6-9 / 2.06   \n",
       "1            Kawhi Leonard      97     #2        F  06/29/91   6-7 / 2.01   \n",
       "2    Giannis Antetokounmpo      96    #34      F-G  12/06/94  6-11 / 2.11   \n",
       "3             Kevin Durant      96     #7        F  09/29/88  6-10 / 2.08   \n",
       "4             James Harden      96    #13        G  08/26/89   6-5 / 1.96   \n",
       "..                     ...     ...    ...      ...       ...          ...   \n",
       "424        Brandon Goodwin      68     #0        G  10/02/95   6-0 / 1.83   \n",
       "425        Michael Frazier      68    #21        G  03/08/94   6-3 / 1.91   \n",
       "426   Kostas Antetokounmpo      68    #37        F  11/20/97  6-10 / 2.08   \n",
       "427           Jalen Lecque      68     #0        G  06/13/00   6-3 / 1.91   \n",
       "428        Duncan Robinson      67    #55        F  04/22/94   6-7 / 2.01   \n",
       "\n",
       "                   weight    salary country  draft_year draft_round  \\\n",
       "0    250 lbs. / 113.4 kg.  37436858     USA        2003           1   \n",
       "1    225 lbs. / 102.1 kg.  32742000     USA        2011           1   \n",
       "2    242 lbs. / 109.8 kg.  25842697  Greece        2013           1   \n",
       "3    230 lbs. / 104.3 kg.  37199000     USA        2007           1   \n",
       "4     220 lbs. / 99.8 kg.  38199000     USA        2009           1   \n",
       "..                    ...       ...     ...         ...         ...   \n",
       "424   180 lbs. / 81.6 kg.    522738     USA        2018   Undrafted   \n",
       "425   200 lbs. / 90.7 kg.     79568     USA        2015           2   \n",
       "426   200 lbs. / 90.7 kg.     79568  Greece        2018   Undrafted   \n",
       "427   190 lbs. / 86.2 kg.    898310     USA        2019   Undrafted   \n",
       "428   215 lbs. / 97.5 kg.   1416852     USA        2018   Undrafted   \n",
       "\n",
       "    draft_peak  unit_salary_rating  \n",
       "0            1       385946.989691  \n",
       "1           15       337546.391753  \n",
       "2           15       269194.760417  \n",
       "3            2       387489.583333  \n",
       "4            3       397906.250000  \n",
       "..         ...                 ...  \n",
       "424  Undrafted         7687.323529  \n",
       "425         60         1170.117647  \n",
       "426  Undrafted         1170.117647  \n",
       "427  Undrafted        13210.441176  \n",
       "428  Undrafted        21147.044776  \n",
       "\n",
       "[429 rows x 13 columns]"
      ]
     },
     "execution_count": 8,
     "metadata": {},
     "output_type": "execute_result"
    }
   ],
   "source": [
    "df2.assign(unit_salary_rating=lambda x: x.salary/x.rating)\n"
   ]
  },
  {
   "cell_type": "markdown",
   "id": "1f566922",
   "metadata": {},
   "source": [
    "# 2. Интерполяция кривой\n",
    "\n",
    "Сгенерируйте от 5 до 20 случайных точек, расположите их на оси абсцисс\n",
    "\n",
    "1. С помощью библиотеки scipy примените один из её [алгоритмов интерполяции](https://docs.scipy.org/doc/scipy/reference/interpolate.html) к сгенерированным данным\n",
    "1. Изучите математический подход метод выбранного алгоритма интерполяции в scipy. Найдите и продемонстрируйте при сдаче реализацию метода в исходном коде библиотеки scipy. Найти можно в [github репозитории проекта](https://github.com/scipy/scipy)\n",
    "1. Выберите среди методов интерполяции в scipy любой другой метод интерполяции (кроме линейной интерполяций). Реализуйте выбранный метод без использования сторонних библиотек. Разрешается использовать numpy для упрощения математичеких вычислений\n",
    "1. Визуализируйте кривую интерполяции библиотечного и вашего алгоритмов с помощью  matplotlib. Сравните качество интерполяции своего и библиотечного методов, объясните разницу в качестве"
   ]
  },
  {
   "cell_type": "code",
   "execution_count": 9,
   "id": "5a904b8d",
   "metadata": {},
   "outputs": [
    {
     "data": {
      "text/plain": [
       "[<matplotlib.lines.Line2D at 0x1f01b70da30>,\n",
       " <matplotlib.lines.Line2D at 0x1f01b70da00>]"
      ]
     },
     "execution_count": 9,
     "metadata": {},
     "output_type": "execute_result"
    },
    {
     "data": {
      "image/png": "[encoded data removed]",
      "text/plain": [
       "<Figure size 432x288 with 1 Axes>"
      ]
     },
     "metadata": {
      "needs_background": "light"
     },
     "output_type": "display_data"
    }
   ],
   "source": [
    "import random\n",
    "from scipy import interpolate\n",
    "import numpy as np\n",
    "\n",
    "k = 10\n",
    "Y = [random.random() * 5 for _ in range(k)]\n",
    "X = [x for x in range(10)]\n",
    "\n",
    "\n",
    "f = interpolate.interp1d(X, Y)\n",
    "xx = np.arange(0, 10)\n",
    "#plt.plot(x, y)\n",
    "plt.plot(X, Y, 'o', xx, f(xx))"
   ]
  },
  {
   "cell_type": "code",
   "execution_count": 10,
   "id": "03aac131",
   "metadata": {},
   "outputs": [],
   "source": [
    "import numpy as np\n",
    "import matplotlib.pyplot as plt\n",
    "\n",
    "\n",
    "class Lagrange:\n",
    "\n",
    "    def __init__(self, X, Y):\n",
    "        self.n = len(X)\n",
    "        self.X = np.array(X)\n",
    "        self.Y = np.array(Y)\n",
    "\n",
    "    def basis(self, x, j):\n",
    "        l = [(x - self.X[i]) / (self.X[j] - self.X[i])\n",
    "             for i in range(self.n) if i != j]\n",
    "        return np.prod(l, axis=0) * self.Y[j]\n",
    "\n",
    "    def interpolate(self, x):\n",
    "        b = [self.basis(x, j) for j in range(self.n)]\n",
    "        return np.sum(b, axis=0)\n",
    "\n",
    "\n",
    "    \n",
    "#X  = [-9, -4, -1, 7]\n",
    "#Y  = [5, 2, -2, 9]"
   ]
  },
  {
   "cell_type": "code",
   "execution_count": 11,
   "id": "28cb4602",
   "metadata": {},
   "outputs": [
    {
     "data": {
      "image/png": "[encoded data removed]",
      "text/plain": [
       "<Figure size 432x288 with 1 Axes>"
      ]
     },
     "metadata": {
      "needs_background": "light"
     },
     "output_type": "display_data"
    }
   ],
   "source": [
    "X  = [-9, -4, -1, 7]\n",
    "Y  = [5, 2, -2, 9]\n",
    "f = Lagrange(X, Y)\n",
    "\n",
    "xx = np.arange(-10, 10)\n",
    "plt.plot(X, Y, 'o', xx, f.interpolate(xx))\n",
    "plt.show()"
   ]
  },
  {
   "cell_type": "code",
   "execution_count": 12,
   "id": "c97b16ad",
   "metadata": {},
   "outputs": [
    {
     "data": {
      "image/png": "[encoded data removed]",
      "text/plain": [
       "<Figure size 432x288 with 1 Axes>"
      ]
     },
     "metadata": {
      "needs_background": "light"
     },
     "output_type": "display_data"
    }
   ],
   "source": [
    "from scipy.interpolate import lagrange\n",
    "f = lagrange(X, Y)\n",
    "plt.plot(X, Y, 'o', xx, f(xx))\n",
    "plt.show()"
   ]
  },
  {
   "cell_type": "markdown",
   "id": "ab162e04",
   "metadata": {},
   "source": [
    "# 3. Быстрая гистограмма\n",
    "\n",
    "Иногда хочется получить дискретное распределение из N колонок. Но пока что для этого у нас есть только plt.hist(), которая тратит много времени на отрисовку графика. Вам предлагается реализовать свою функцию построения дискретного распределения\n",
    "\n",
    "1. Алгоритм должен получать на вход список чисел и количество колонок гистограммы. Возвращать нужно значения столбцов (ось абсцисс гистограммы) и количество значений, принадлежащее столбцу (ось ординат гистограммы). Пример с использованием plt показан ниже, сигнатура функции также показана ниже\n",
    "1. Изучите функцию [plt.bar](https://matplotlib.org/stable/api/_as_gen/matplotlib.pyplot.bar.html). Это такая же гистограмма как plt.hist, но в отличие от hist требуется явно указывать высоту колонок и их название\n",
    "1. С помощью результатов своего алгоритма и plt.bar постройте гистограмму по массиву из 50+ случайных чисел. Графики plt.bar по вашему алгоритму и plt.hist() должны совпадать, что подтвердит корректность работы вашего алгоритма\n",
    "1. Сравните скорость построения распределения по массиву чисел с помощью своего алгоритма и с помощью plt.hist. В jupyter рекомендуется использовать built-in magic commands, а именно timeit. Но можно обойтись и ручными измерениями времени выполнения"
   ]
  },
  {
   "cell_type": "code",
   "execution_count": 13,
   "id": "c1ca20c3",
   "metadata": {},
   "outputs": [
    {
     "name": "stdout",
     "output_type": "stream",
     "text": [
      "Значения колонок: [3. 2. 2. 2.]\n",
      "Названия колонок: [1.   1.75 2.5  3.25 4.  ]\n",
      "[1, 1, 2, 3, 4, 1, 2, 3, 4]\n"
     ]
    },
    {
     "data": {
      "image/png": "[encoded data removed]",
      "text/plain": [
       "<Figure size 432x288 with 1 Axes>"
      ]
     },
     "metadata": {
      "needs_background": "light"
     },
     "output_type": "display_data"
    }
   ],
   "source": [
    "# Пример гистограммы с помощью plt.hist()\n",
    "import matplotlib.pyplot as plt\n",
    "\n",
    "array = [1,1,2,3,4,1,2,3,4]\n",
    "\n",
    "value_counts, bins_names, visual_figure = plt.hist(array, \n",
    "                                                   bins=len(set(array))\n",
    "                                                   )\n",
    "# Параметр rwidth и визуализацию в своей функции реализовывать не требуется\n",
    "print('Значения колонок:', value_counts)\n",
    "print('Названия колонок:', bins_names)\n",
    "print(array)"
   ]
  },
  {
   "cell_type": "code",
   "execution_count": 14,
   "id": "546dd743",
   "metadata": {},
   "outputs": [],
   "source": [
    "from typing import List, Tuple, Union\n",
    "\n",
    "def fast_hist(array: List[Union[int, float]], \n",
    "              bins: int) -> Tuple[List[int], List[float]]:\n",
    "    \"\"\"\n",
    "    Builds bins' labels and bins' value counts for given array\n",
    "    :param array: array with numeric values\n",
    "    :param bins:  number of bins in result distribution\n",
    "    :return: Two lists: \n",
    "             first contains value counts of each bin,\n",
    "             second contains list of bins' labels\n",
    "    \"\"\"\n",
    "    maxx = max(array)\n",
    "    minn = min(array)\n",
    "    d = (maxx - minn) / bins\n",
    "    arrBins = []\n",
    "    #arrBins = np.arange(minn, maxx + 1e-6, d).tolist()\n",
    "    #round(2.75, 1)\n",
    "    p = minn\n",
    "    for i in range(bins + 1):\n",
    "        arrBins.append(round(p,8))\n",
    "        p = p + d\n",
    "    \n",
    "    \n",
    "    def lessOrEq(val:float, temp:float) -> bool:\n",
    "        return val - temp <= 1e-6\n",
    "    \n",
    "    \n",
    "    def less(val:float, temp:float) -> bool:\n",
    "        return val - temp < 1e-6\n",
    "    \n",
    "    def sat(left:float, right:float, point:float) -> bool:\n",
    "        return lessOrEq(left, point) and less(point, right) \n",
    "\n",
    "    array.sort()\n",
    "    k = 0 \n",
    "    cur = 0\n",
    "    counts = []\n",
    "    i = 0\n",
    "    while i < len(array):\n",
    "        if sat(arrBins[k], arrBins[k+1], array[i]):\n",
    "            cur=cur + 1\n",
    "        else:\n",
    "            counts.append(cur)\n",
    "            cur = 0\n",
    "            i = i - 1\n",
    "            k=k+1\n",
    "        i = i + 1\n",
    "\n",
    "    counts.append(cur) \n",
    "    counts.append(0) \n",
    "    \n",
    "        \n",
    "    return (counts, arrBins)\n",
    "\n",
    "\n"
   ]
  },
  {
   "cell_type": "code",
   "execution_count": 15,
   "id": "21d03665",
   "metadata": {},
   "outputs": [
    {
     "name": "stdout",
     "output_type": "stream",
     "text": [
      "[0.9083022787004471, 0.2551493261614468, 0.12448737617678196, 0.8835247938886096, 0.1344655386362601, 0.6814491703803326, 0.4151674955934722, 0.0037171957459715133, 0.5119275690014662, 0.6904023292951471, 0.5718474807688912, 0.916136259516231, 0.6592454323519881, 0.8374562943649937, 0.134795561360338, 0.8370305258744735, 0.8343881665035738, 0.31784064925317346, 0.5032407640361788, 0.6297504708603168, 0.9967249333911049, 0.3082343834551228, 0.6268344556248413, 0.3879044288032617, 0.249563297647465, 0.8454478426929788, 0.9495334137029302, 0.8586614666005483, 0.014012137004162484, 0.40287821211688557, 0.3580054597464879, 0.8208824366464444, 0.1177557336841113, 0.4176087827235889, 0.9749683651434874, 0.999250856021689, 0.6228403734992958, 0.3266032444020589, 0.3290305787364557, 0.28428250251228115, 0.6029952521057808, 0.7723934258202444, 0.7399869432728294, 0.3935688390378801, 0.12344140985024066, 0.2502571263417218, 0.5446704133171277, 0.8083695740279964, 0.7590718703343595, 0.13359705746310346, 0.7407984688882412, 0.7172861360936089, 0.6576337456340675, 0.49822974947266996, 0.2655817579325852]\n"
     ]
    },
    {
     "data": {
      "text/plain": [
       "(array([2., 0., 0., 0., 0., 0., 3., 3., 0., 0., 0., 0., 0., 3., 1., 1., 1.,\n",
       "        3., 0., 1., 0., 2., 3., 0., 0., 0., 0., 2., 1., 1., 0., 1., 0., 1.,\n",
       "        3., 0., 2., 2., 0., 1., 2., 1., 1., 0., 1., 2., 3., 1., 1., 1., 1.,\n",
       "        0., 1., 1., 2.]),\n",
       " array([0.0037172 , 0.02181781, 0.03991842, 0.05801903, 0.07611964,\n",
       "        0.09422026, 0.11232087, 0.13042148, 0.14852209, 0.1666227 ,\n",
       "        0.18472332, 0.20282393, 0.22092454, 0.23902515, 0.25712576,\n",
       "        0.27522638, 0.29332699, 0.3114276 , 0.32952821, 0.34762882,\n",
       "        0.36572944, 0.38383005, 0.40193066, 0.42003127, 0.43813188,\n",
       "        0.4562325 , 0.47433311, 0.49243372, 0.51053433, 0.52863494,\n",
       "        0.54673556, 0.56483617, 0.58293678, 0.60103739, 0.619138  ,\n",
       "        0.63723862, 0.65533923, 0.67343984, 0.69154045, 0.70964106,\n",
       "        0.72774168, 0.74584229, 0.7639429 , 0.78204351, 0.80014412,\n",
       "        0.81824474, 0.83634535, 0.85444596, 0.87254657, 0.89064718,\n",
       "        0.9087478 , 0.92684841, 0.94494902, 0.96304963, 0.98115024,\n",
       "        0.99925086]),\n",
       " <BarContainer object of 55 artists>)"
      ]
     },
     "execution_count": 15,
     "metadata": {},
     "output_type": "execute_result"
    },
    {
     "data": {
      "image/png": "[encoded data removed]",
      "text/plain": [
       "<Figure size 432x288 with 1 Axes>"
      ]
     },
     "metadata": {
      "needs_background": "light"
     },
     "output_type": "display_data"
    }
   ],
   "source": [
    "qwe = [random.random() for _ in range(55)]\n",
    "print(qwe)\n",
    "plt.hist(qwe,len(set(qwe)))"
   ]
  },
  {
   "cell_type": "code",
   "execution_count": 16,
   "id": "7f2f6a9a",
   "metadata": {},
   "outputs": [
    {
     "name": "stdout",
     "output_type": "stream",
     "text": [
      "[0.9083022787004471, 0.2551493261614468, 0.12448737617678196, 0.8835247938886096, 0.1344655386362601, 0.6814491703803326, 0.4151674955934722, 0.0037171957459715133, 0.5119275690014662, 0.6904023292951471, 0.5718474807688912, 0.916136259516231, 0.6592454323519881, 0.8374562943649937, 0.134795561360338, 0.8370305258744735, 0.8343881665035738, 0.31784064925317346, 0.5032407640361788, 0.6297504708603168, 0.9967249333911049, 0.3082343834551228, 0.6268344556248413, 0.3879044288032617, 0.249563297647465, 0.8454478426929788, 0.9495334137029302, 0.8586614666005483, 0.014012137004162484, 0.40287821211688557, 0.3580054597464879, 0.8208824366464444, 0.1177557336841113, 0.4176087827235889, 0.9749683651434874, 0.999250856021689, 0.6228403734992958, 0.3266032444020589, 0.3290305787364557, 0.28428250251228115, 0.6029952521057808, 0.7723934258202444, 0.7399869432728294, 0.3935688390378801, 0.12344140985024066, 0.2502571263417218, 0.5446704133171277, 0.8083695740279964, 0.7590718703343595, 0.13359705746310346, 0.7407984688882412, 0.7172861360936089, 0.6576337456340675, 0.49822974947266996, 0.2655817579325852]\n"
     ]
    },
    {
     "data": {
      "text/plain": [
       "(array([2., 0., 0., 0., 0., 0., 3., 3., 0., 0., 0., 0., 0., 3., 1., 1., 1.,\n",
       "        3., 0., 1., 0., 2., 3., 0., 0., 0., 0., 2., 1., 1., 0., 1., 0., 1.,\n",
       "        3., 0., 2., 2., 0., 1., 2., 1., 1., 0., 1., 2., 3., 1., 1., 1., 1.,\n",
       "        0., 1., 1., 2.]),\n",
       " array([0.0037172 , 0.02181781, 0.03991842, 0.05801903, 0.07611964,\n",
       "        0.09422026, 0.11232087, 0.13042148, 0.14852209, 0.1666227 ,\n",
       "        0.18472332, 0.20282393, 0.22092454, 0.23902515, 0.25712576,\n",
       "        0.27522638, 0.29332699, 0.3114276 , 0.32952821, 0.34762882,\n",
       "        0.36572944, 0.38383005, 0.40193066, 0.42003127, 0.43813188,\n",
       "        0.4562325 , 0.47433311, 0.49243372, 0.51053433, 0.52863494,\n",
       "        0.54673556, 0.56483617, 0.58293678, 0.60103739, 0.619138  ,\n",
       "        0.63723862, 0.65533923, 0.67343984, 0.69154045, 0.70964106,\n",
       "        0.72774168, 0.74584229, 0.7639429 , 0.78204351, 0.80014412,\n",
       "        0.81824474, 0.83634535, 0.85444596, 0.87254657, 0.89064718,\n",
       "        0.9087478 , 0.92684841, 0.94494902, 0.96304963, 0.98115024,\n",
       "        0.99925086]),\n",
       " <BarContainer object of 55 artists>)"
      ]
     },
     "execution_count": 16,
     "metadata": {},
     "output_type": "execute_result"
    },
    {
     "data": {
      "image/png": "[encoded data removed]",
      "text/plain": [
       "<Figure size 432x288 with 1 Axes>"
      ]
     },
     "metadata": {
      "needs_background": "light"
     },
     "output_type": "display_data"
    }
   ],
   "source": [
    "print(qwe)\n",
    "plt.hist(qwe,len(set(qwe)))"
   ]
  },
  {
   "cell_type": "code",
   "execution_count": 17,
   "id": "94ec71ca",
   "metadata": {},
   "outputs": [
    {
     "name": "stdout",
     "output_type": "stream",
     "text": [
      "55\n",
      "56\n",
      "[2, 0, 0, 0, 0, 0, 3, 3, 0, 0, 0, 0, 0, 3, 1, 1, 1, 3, 0, 1, 0, 2, 3, 0, 0, 0, 0, 2, 1, 1, 0, 1, 0, 1, 3, 0, 2, 2, 0, 1, 2, 1, 1, 0, 1, 2, 3, 1, 1, 1, 1, 0, 1, 1, 2, 0]\n",
      "56\n",
      "[0.0037172, 0.02181781, 0.03991842, 0.05801903, 0.07611964, 0.09422026, 0.11232087, 0.13042148, 0.14852209, 0.1666227, 0.18472332, 0.20282393, 0.22092454, 0.23902515, 0.25712576, 0.27522638, 0.29332699, 0.3114276, 0.32952821, 0.34762882, 0.36572944, 0.38383005, 0.40193066, 0.42003127, 0.43813188, 0.4562325, 0.47433311, 0.49243372, 0.51053433, 0.52863494, 0.54673556, 0.56483617, 0.58293678, 0.60103739, 0.619138, 0.63723862, 0.65533923, 0.67343984, 0.69154045, 0.70964106, 0.72774168, 0.74584229, 0.7639429, 0.78204351, 0.80014412, 0.81824474, 0.83634535, 0.85444596, 0.87254657, 0.89064718, 0.9087478, 0.92684841, 0.94494902, 0.96304963, 0.98115024, 0.99925086]\n"
     ]
    },
    {
     "data": {
      "image/png": "[encoded data removed]",
      "text/plain": [
       "<Figure size 432x288 with 1 Axes>"
      ]
     },
     "metadata": {
      "needs_background": "light"
     },
     "output_type": "display_data"
    }
   ],
   "source": [
    "tup = fast_hist(qwe, len(set(qwe)))\n",
    "plt.bar(tup[1], tup[0],width=0.02)\n",
    "print(len(set(qwe)))\n",
    "print(len(tup[0]))\n",
    "print(tup[0])\n",
    "print(len(tup[1]))\n",
    "print(tup[1])\n"
   ]
  },
  {
   "cell_type": "code",
   "execution_count": 18,
   "id": "e1e8cc65",
   "metadata": {},
   "outputs": [
    {
     "name": "stdout",
     "output_type": "stream",
     "text": [
      "Requirement already satisfied: ipython-autotime in c:\\users\\user\\anaconda3\\lib\\site-packages (0.3.1)\n",
      "Requirement already satisfied: ipython in c:\\users\\user\\anaconda3\\lib\\site-packages (from ipython-autotime) (7.27.0)\n",
      "Requirement already satisfied: jedi>=0.16 in c:\\users\\user\\anaconda3\\lib\\site-packages (from ipython->ipython-autotime) (0.17.1)\n",
      "Requirement already satisfied: pickleshare in c:\\users\\user\\anaconda3\\lib\\site-packages (from ipython->ipython-autotime) (0.7.5)\n",
      "Requirement already satisfied: decorator in c:\\users\\user\\anaconda3\\lib\\site-packages (from ipython->ipython-autotime) (5.1.0)\n",
      "Requirement already satisfied: matplotlib-inline in c:\\users\\user\\anaconda3\\lib\\site-packages (from ipython->ipython-autotime) (0.1.2)\n",
      "Requirement already satisfied: backcall in c:\\users\\user\\anaconda3\\lib\\site-packages (from ipython->ipython-autotime) (0.2.0)\n",
      "Requirement already satisfied: prompt-toolkit!=3.0.0,!=3.0.1,<3.1.0,>=2.0.0 in c:\\users\\user\\anaconda3\\lib\\site-packages (from ipython->ipython-autotime) (3.0.20)\n",
      "Requirement already satisfied: pygments in c:\\users\\user\\anaconda3\\lib\\site-packages (from ipython->ipython-autotime) (2.10.0)\n",
      "Requirement already satisfied: colorama in c:\\users\\user\\anaconda3\\lib\\site-packages (from ipython->ipython-autotime) (0.4.4)\n",
      "Requirement already satisfied: traitlets>=4.2 in c:\\users\\user\\anaconda3\\lib\\site-packages (from ipython->ipython-autotime) (5.1.0)\n",
      "Requirement already satisfied: setuptools>=18.5 in c:\\users\\user\\anaconda3\\lib\\site-packages (from ipython->ipython-autotime) (58.0.4)\n",
      "Requirement already satisfied: parso<0.8.0,>=0.7.0 in c:\\users\\user\\anaconda3\\lib\\site-packages (from jedi>=0.16->ipython->ipython-autotime) (0.7.0)\n",
      "Requirement already satisfied: wcwidth in c:\\users\\user\\anaconda3\\lib\\site-packages (from prompt-toolkit!=3.0.0,!=3.0.1,<3.1.0,>=2.0.0->ipython->ipython-autotime) (0.2.5)\n",
      "time: 0 ns (started: 2021-10-31 02:13:03 +03:00)\n"
     ]
    }
   ],
   "source": [
    "!pip install ipython-autotime\n",
    "%load_ext autotime"
   ]
  },
  {
   "cell_type": "code",
   "execution_count": 19,
   "id": "18dbae10",
   "metadata": {},
   "outputs": [
    {
     "data": {
      "text/plain": [
       "(array([2., 0., 0., 0., 0., 0., 3., 3., 0., 0., 0., 0., 0., 3., 1., 1., 1.,\n",
       "        3., 0., 1., 0., 2., 3., 0., 0., 0., 0., 2., 1., 1., 0., 1., 0., 1.,\n",
       "        3., 0., 2., 2., 0., 1., 2., 1., 1., 0., 1., 2., 3., 1., 1., 1., 1.,\n",
       "        0., 1., 1., 2.]),\n",
       " array([0.0037172 , 0.02181781, 0.03991842, 0.05801903, 0.07611964,\n",
       "        0.09422026, 0.11232087, 0.13042148, 0.14852209, 0.1666227 ,\n",
       "        0.18472332, 0.20282393, 0.22092454, 0.23902515, 0.25712576,\n",
       "        0.27522638, 0.29332699, 0.3114276 , 0.32952821, 0.34762882,\n",
       "        0.36572944, 0.38383005, 0.40193066, 0.42003127, 0.43813188,\n",
       "        0.4562325 , 0.47433311, 0.49243372, 0.51053433, 0.52863494,\n",
       "        0.54673556, 0.56483617, 0.58293678, 0.60103739, 0.619138  ,\n",
       "        0.63723862, 0.65533923, 0.67343984, 0.69154045, 0.70964106,\n",
       "        0.72774168, 0.74584229, 0.7639429 , 0.78204351, 0.80014412,\n",
       "        0.81824474, 0.83634535, 0.85444596, 0.87254657, 0.89064718,\n",
       "        0.9087478 , 0.92684841, 0.94494902, 0.96304963, 0.98115024,\n",
       "        0.99925086]),\n",
       " <BarContainer object of 55 artists>)"
      ]
     },
     "execution_count": 19,
     "metadata": {},
     "output_type": "execute_result"
    },
    {
     "data": {
      "image/png": "[encoded data removed]",
      "text/plain": [
       "<Figure size 432x288 with 1 Axes>"
      ]
     },
     "metadata": {
      "needs_background": "light"
     },
     "output_type": "display_data"
    },
    {
     "name": "stdout",
     "output_type": "stream",
     "text": [
      "time: 875 ms (started: 2021-10-31 02:13:04 +03:00)\n"
     ]
    }
   ],
   "source": [
    "plt.hist(qwe,len(set(qwe)))"
   ]
  },
  {
   "cell_type": "code",
   "execution_count": 20,
   "id": "9dcc6623",
   "metadata": {},
   "outputs": [
    {
     "data": {
      "text/plain": [
       "<BarContainer object of 56 artists>"
      ]
     },
     "execution_count": 20,
     "metadata": {},
     "output_type": "execute_result"
    },
    {
     "data": {
      "image/png": "[encoded data removed]",
      "text/plain": [
       "<Figure size 432x288 with 1 Axes>"
      ]
     },
     "metadata": {
      "needs_background": "light"
     },
     "output_type": "display_data"
    },
    {
     "name": "stdout",
     "output_type": "stream",
     "text": [
      "time: 750 ms (started: 2021-10-31 02:13:04 +03:00)\n"
     ]
    }
   ],
   "source": [
    "tup = fast_hist(qwe, len(set(qwe)))\n",
    "plt.bar(tup[1], tup[0],width=0.02)"
   ]
  },
  {
   "cell_type": "code",
   "execution_count": null,
   "id": "b5acfe74",
   "metadata": {},
   "outputs": [],
   "source": []
  }
 ],
 "metadata": {
  "kernelspec": {
   "display_name": "Python 3 (ipykernel)",
   "language": "python",
   "name": "python3"
  },
  "language_info": {
   "codemirror_mode": {
    "name": "ipython",
    "version": 3
   },
   "file_extension": ".py",
   "mimetype": "text/x-python",
   "name": "python",
   "nbconvert_exporter": "python",
   "pygments_lexer": "ipython3",
   "version": "3.8.12"
  }
 },
 "nbformat": 4,
 "nbformat_minor": 5
}
