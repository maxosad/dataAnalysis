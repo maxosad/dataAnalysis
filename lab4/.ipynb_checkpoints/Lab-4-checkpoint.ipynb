{
 "cells": [
  {
   "cell_type": "markdown",
   "id": "f07d0c4a",
   "metadata": {},
   "source": [
    "# Задание из четвёртой лабы\n",
    "\n",
    "Обучите один из алгоритмов классификации из библиотеки sklearn. Объяснять принцип работы классификатора в этой лабораторной не требуется\n",
    "\n",
    "1. Выберите один из датасетов первой лабораторной\n",
    "\n",
    "\n",
    "2. Найдите в данных признак, который будете предсказывать\n",
    "    \n",
    "    Если это категория, то у неё должно быть от 2 до 10 значений (например колонка species в датасете миграции птиц содержит 3 категории)\n",
    "    \n",
    "    Если признак количественный, то его нужно дискретизировать (например для популярности трека в датасете spotify можно разделить треки на 3 категории: 0-20 - популярные, 21-50 - обычные, 51 - 100 - непопулярные). Полученную категорию записать в датафрейм как отдельную колонку\n",
    "\n",
    "\n",
    "3. Выделите признаки для предсказания\n",
    "    \n",
    "    Используйте от 2 до 5 количественных признаков для предсказания целевой переменной\n",
    "\n",
    "\n",
    "4. Проверьте нормальность количественных признаков\n",
    "    \n",
    "    Используйте статистический тест из лекции. Если распределение является лог-нормальным, логарифмируйте его и проверьте на нормальность\n",
    "    \n",
    "    Как минимум 1 из признаков должен быть нормальным\n",
    "\n",
    "\n",
    "5. Покажите качество предсказания модели с помощью метрик\n",
    "\n",
    "    Метрика должна учитывать баланс классов в датасете"
   ]
  },
  {
   "cell_type": "code",
   "execution_count": 1,
   "id": "ce709f76",
   "metadata": {},
   "outputs": [],
   "source": [
    "import pandas as pd\n",
    "import numpy as np\n",
    "\n",
    "\n",
    "df = pd.read_csv('myNba2k20-full.csv')"
   ]
  },
  {
   "cell_type": "code",
   "execution_count": 2,
   "id": "8fd8158f",
   "metadata": {},
   "outputs": [
    {
     "name": "stdout",
     "output_type": "stream",
     "text": [
      "<class 'pandas.core.frame.DataFrame'>\n",
      "RangeIndex: 429 entries, 0 to 428\n",
      "Data columns (total 13 columns):\n",
      " #   Column       Non-Null Count  Dtype \n",
      "---  ------       --------------  ----- \n",
      " 0   Unnamed: 0   429 non-null    int64 \n",
      " 1   full_name    429 non-null    object\n",
      " 2   rating       429 non-null    int64 \n",
      " 3   jersey       429 non-null    object\n",
      " 4   position     429 non-null    object\n",
      " 5   b_day        429 non-null    object\n",
      " 6   height       429 non-null    object\n",
      " 7   weight       429 non-null    object\n",
      " 8   salary       429 non-null    int64 \n",
      " 9   country      429 non-null    object\n",
      " 10  draft_year   429 non-null    int64 \n",
      " 11  draft_round  429 non-null    object\n",
      " 12  draft_peak   429 non-null    object\n",
      "dtypes: int64(4), object(9)\n",
      "memory usage: 43.7+ KB\n"
     ]
    }
   ],
   "source": [
    "df.info()"
   ]
  },
  {
   "cell_type": "code",
   "execution_count": 3,
   "id": "c3cd6c2e",
   "metadata": {
    "scrolled": true
   },
   "outputs": [
    {
     "data": {
      "text/html": [
       "<div>\n",
       "<style scoped>\n",
       "    .dataframe tbody tr th:only-of-type {\n",
       "        vertical-align: middle;\n",
       "    }\n",
       "\n",
       "    .dataframe tbody tr th {\n",
       "        vertical-align: top;\n",
       "    }\n",
       "\n",
       "    .dataframe thead th {\n",
       "        text-align: right;\n",
       "    }\n",
       "</style>\n",
       "<table border=\"1\" class=\"dataframe\">\n",
       "  <thead>\n",
       "    <tr style=\"text-align: right;\">\n",
       "      <th></th>\n",
       "      <th>Unnamed: 0</th>\n",
       "      <th>full_name</th>\n",
       "      <th>rating</th>\n",
       "      <th>jersey</th>\n",
       "      <th>position</th>\n",
       "      <th>b_day</th>\n",
       "      <th>height</th>\n",
       "      <th>weight</th>\n",
       "      <th>salary</th>\n",
       "      <th>country</th>\n",
       "      <th>draft_year</th>\n",
       "      <th>draft_round</th>\n",
       "      <th>draft_peak</th>\n",
       "    </tr>\n",
       "  </thead>\n",
       "  <tbody>\n",
       "    <tr>\n",
       "      <th>0</th>\n",
       "      <td>0</td>\n",
       "      <td>LeBron James</td>\n",
       "      <td>97</td>\n",
       "      <td>#23</td>\n",
       "      <td>F</td>\n",
       "      <td>12/30/84</td>\n",
       "      <td>6-9 / 2.06</td>\n",
       "      <td>250 lbs. / 113.4 kg.</td>\n",
       "      <td>37436858</td>\n",
       "      <td>USA</td>\n",
       "      <td>2003</td>\n",
       "      <td>1</td>\n",
       "      <td>1</td>\n",
       "    </tr>\n",
       "    <tr>\n",
       "      <th>1</th>\n",
       "      <td>1</td>\n",
       "      <td>Kawhi Leonard</td>\n",
       "      <td>97</td>\n",
       "      <td>#2</td>\n",
       "      <td>F</td>\n",
       "      <td>06/29/91</td>\n",
       "      <td>6-7 / 2.01</td>\n",
       "      <td>225 lbs. / 102.1 kg.</td>\n",
       "      <td>32742000</td>\n",
       "      <td>USA</td>\n",
       "      <td>2011</td>\n",
       "      <td>1</td>\n",
       "      <td>15</td>\n",
       "    </tr>\n",
       "    <tr>\n",
       "      <th>2</th>\n",
       "      <td>2</td>\n",
       "      <td>Giannis Antetokounmpo</td>\n",
       "      <td>96</td>\n",
       "      <td>#34</td>\n",
       "      <td>F-G</td>\n",
       "      <td>12/06/94</td>\n",
       "      <td>6-11 / 2.11</td>\n",
       "      <td>242 lbs. / 109.8 kg.</td>\n",
       "      <td>25842697</td>\n",
       "      <td>Greece</td>\n",
       "      <td>2013</td>\n",
       "      <td>1</td>\n",
       "      <td>15</td>\n",
       "    </tr>\n",
       "    <tr>\n",
       "      <th>3</th>\n",
       "      <td>3</td>\n",
       "      <td>Kevin Durant</td>\n",
       "      <td>96</td>\n",
       "      <td>#7</td>\n",
       "      <td>F</td>\n",
       "      <td>09/29/88</td>\n",
       "      <td>6-10 / 2.08</td>\n",
       "      <td>230 lbs. / 104.3 kg.</td>\n",
       "      <td>37199000</td>\n",
       "      <td>USA</td>\n",
       "      <td>2007</td>\n",
       "      <td>1</td>\n",
       "      <td>2</td>\n",
       "    </tr>\n",
       "    <tr>\n",
       "      <th>4</th>\n",
       "      <td>4</td>\n",
       "      <td>James Harden</td>\n",
       "      <td>96</td>\n",
       "      <td>#13</td>\n",
       "      <td>G</td>\n",
       "      <td>08/26/89</td>\n",
       "      <td>6-5 / 1.96</td>\n",
       "      <td>220 lbs. / 99.8 kg.</td>\n",
       "      <td>38199000</td>\n",
       "      <td>USA</td>\n",
       "      <td>2009</td>\n",
       "      <td>1</td>\n",
       "      <td>3</td>\n",
       "    </tr>\n",
       "  </tbody>\n",
       "</table>\n",
       "</div>"
      ],
      "text/plain": [
       "   Unnamed: 0              full_name  rating jersey position     b_day  \\\n",
       "0           0           LeBron James      97    #23        F  12/30/84   \n",
       "1           1          Kawhi Leonard      97     #2        F  06/29/91   \n",
       "2           2  Giannis Antetokounmpo      96    #34      F-G  12/06/94   \n",
       "3           3           Kevin Durant      96     #7        F  09/29/88   \n",
       "4           4           James Harden      96    #13        G  08/26/89   \n",
       "\n",
       "        height                weight    salary country  draft_year  \\\n",
       "0   6-9 / 2.06  250 lbs. / 113.4 kg.  37436858     USA        2003   \n",
       "1   6-7 / 2.01  225 lbs. / 102.1 kg.  32742000     USA        2011   \n",
       "2  6-11 / 2.11  242 lbs. / 109.8 kg.  25842697  Greece        2013   \n",
       "3  6-10 / 2.08  230 lbs. / 104.3 kg.  37199000     USA        2007   \n",
       "4   6-5 / 1.96   220 lbs. / 99.8 kg.  38199000     USA        2009   \n",
       "\n",
       "  draft_round draft_peak  \n",
       "0           1          1  \n",
       "1           1         15  \n",
       "2           1         15  \n",
       "3           1          2  \n",
       "4           1          3  "
      ]
     },
     "execution_count": 3,
     "metadata": {},
     "output_type": "execute_result"
    }
   ],
   "source": [
    "df.head()"
   ]
  },
  {
   "cell_type": "code",
   "execution_count": 4,
   "id": "b09d5ad8",
   "metadata": {},
   "outputs": [],
   "source": [
    "def eraseDollar(value: object ) -> int:\n",
    "    return int(value.replace(\"$\", \"\"))"
   ]
  },
  {
   "cell_type": "code",
   "execution_count": 4,
   "id": "19750b21",
   "metadata": {},
   "outputs": [],
   "source": [
    "def grp(x):\n",
    "    if (x[2] <= 33): \n",
    "        ans = 33\n",
    "    elif (x [2] <= 66):\n",
    "        ans = 66\n",
    "    else: ans = 99\n",
    "    "
   ]
  },
  {
   "cell_type": "code",
   "execution_count": null,
   "id": "ffde5007",
   "metadata": {},
   "outputs": [],
   "source": [
    "df.rating = df.apply(grp, axis = 1)"
   ]
  },
  {
   "cell_type": "code",
   "execution_count": 5,
   "id": "08515be0",
   "metadata": {},
   "outputs": [],
   "source": [
    "def h(x) -> float:\n",
    "    #a = float(x[6].split('/ ')[1])\n",
    "    a = x[6].split('/ ')[1]\n",
    "    return float(a)"
   ]
  },
  {
   "cell_type": "code",
   "execution_count": 6,
   "id": "ad78bd7f",
   "metadata": {},
   "outputs": [],
   "source": [
    "df.height = df.apply(h, axis = 1)"
   ]
  },
  {
   "cell_type": "code",
   "execution_count": 7,
   "id": "695e29af",
   "metadata": {},
   "outputs": [],
   "source": [
    "def w(x: object) -> float:\n",
    "    a = x[7].split('/ ')[1]\n",
    "    b = a.split()[0]\n",
    "    return float(b)"
   ]
  },
  {
   "cell_type": "code",
   "execution_count": 8,
   "id": "677a1690",
   "metadata": {},
   "outputs": [],
   "source": [
    "df.weight = df.apply(w, axis = 1)"
   ]
  },
  {
   "cell_type": "code",
   "execution_count": 9,
   "id": "f556889d",
   "metadata": {},
   "outputs": [
    {
     "data": {
      "text/html": [
       "<div>\n",
       "<style scoped>\n",
       "    .dataframe tbody tr th:only-of-type {\n",
       "        vertical-align: middle;\n",
       "    }\n",
       "\n",
       "    .dataframe tbody tr th {\n",
       "        vertical-align: top;\n",
       "    }\n",
       "\n",
       "    .dataframe thead th {\n",
       "        text-align: right;\n",
       "    }\n",
       "</style>\n",
       "<table border=\"1\" class=\"dataframe\">\n",
       "  <thead>\n",
       "    <tr style=\"text-align: right;\">\n",
       "      <th></th>\n",
       "      <th>Unnamed: 0</th>\n",
       "      <th>full_name</th>\n",
       "      <th>rating</th>\n",
       "      <th>jersey</th>\n",
       "      <th>position</th>\n",
       "      <th>b_day</th>\n",
       "      <th>height</th>\n",
       "      <th>weight</th>\n",
       "      <th>salary</th>\n",
       "      <th>country</th>\n",
       "      <th>draft_year</th>\n",
       "      <th>draft_round</th>\n",
       "      <th>draft_peak</th>\n",
       "    </tr>\n",
       "  </thead>\n",
       "  <tbody>\n",
       "    <tr>\n",
       "      <th>0</th>\n",
       "      <td>0</td>\n",
       "      <td>LeBron James</td>\n",
       "      <td>97</td>\n",
       "      <td>#23</td>\n",
       "      <td>F</td>\n",
       "      <td>12/30/84</td>\n",
       "      <td>2.06</td>\n",
       "      <td>113.4</td>\n",
       "      <td>37436858</td>\n",
       "      <td>USA</td>\n",
       "      <td>2003</td>\n",
       "      <td>1</td>\n",
       "      <td>1</td>\n",
       "    </tr>\n",
       "    <tr>\n",
       "      <th>1</th>\n",
       "      <td>1</td>\n",
       "      <td>Kawhi Leonard</td>\n",
       "      <td>97</td>\n",
       "      <td>#2</td>\n",
       "      <td>F</td>\n",
       "      <td>06/29/91</td>\n",
       "      <td>2.01</td>\n",
       "      <td>102.1</td>\n",
       "      <td>32742000</td>\n",
       "      <td>USA</td>\n",
       "      <td>2011</td>\n",
       "      <td>1</td>\n",
       "      <td>15</td>\n",
       "    </tr>\n",
       "    <tr>\n",
       "      <th>2</th>\n",
       "      <td>2</td>\n",
       "      <td>Giannis Antetokounmpo</td>\n",
       "      <td>96</td>\n",
       "      <td>#34</td>\n",
       "      <td>F-G</td>\n",
       "      <td>12/06/94</td>\n",
       "      <td>2.11</td>\n",
       "      <td>109.8</td>\n",
       "      <td>25842697</td>\n",
       "      <td>Greece</td>\n",
       "      <td>2013</td>\n",
       "      <td>1</td>\n",
       "      <td>15</td>\n",
       "    </tr>\n",
       "    <tr>\n",
       "      <th>3</th>\n",
       "      <td>3</td>\n",
       "      <td>Kevin Durant</td>\n",
       "      <td>96</td>\n",
       "      <td>#7</td>\n",
       "      <td>F</td>\n",
       "      <td>09/29/88</td>\n",
       "      <td>2.08</td>\n",
       "      <td>104.3</td>\n",
       "      <td>37199000</td>\n",
       "      <td>USA</td>\n",
       "      <td>2007</td>\n",
       "      <td>1</td>\n",
       "      <td>2</td>\n",
       "    </tr>\n",
       "    <tr>\n",
       "      <th>4</th>\n",
       "      <td>4</td>\n",
       "      <td>James Harden</td>\n",
       "      <td>96</td>\n",
       "      <td>#13</td>\n",
       "      <td>G</td>\n",
       "      <td>08/26/89</td>\n",
       "      <td>1.96</td>\n",
       "      <td>99.8</td>\n",
       "      <td>38199000</td>\n",
       "      <td>USA</td>\n",
       "      <td>2009</td>\n",
       "      <td>1</td>\n",
       "      <td>3</td>\n",
       "    </tr>\n",
       "  </tbody>\n",
       "</table>\n",
       "</div>"
      ],
      "text/plain": [
       "   Unnamed: 0              full_name  rating jersey position     b_day  \\\n",
       "0           0           LeBron James      97    #23        F  12/30/84   \n",
       "1           1          Kawhi Leonard      97     #2        F  06/29/91   \n",
       "2           2  Giannis Antetokounmpo      96    #34      F-G  12/06/94   \n",
       "3           3           Kevin Durant      96     #7        F  09/29/88   \n",
       "4           4           James Harden      96    #13        G  08/26/89   \n",
       "\n",
       "   height  weight    salary country  draft_year draft_round draft_peak  \n",
       "0    2.06   113.4  37436858     USA        2003           1          1  \n",
       "1    2.01   102.1  32742000     USA        2011           1         15  \n",
       "2    2.11   109.8  25842697  Greece        2013           1         15  \n",
       "3    2.08   104.3  37199000     USA        2007           1          2  \n",
       "4    1.96    99.8  38199000     USA        2009           1          3  "
      ]
     },
     "execution_count": 9,
     "metadata": {},
     "output_type": "execute_result"
    }
   ],
   "source": [
    "df.head()"
   ]
  },
  {
   "cell_type": "code",
   "execution_count": 10,
   "id": "868387cf",
   "metadata": {},
   "outputs": [
    {
     "name": "stdout",
     "output_type": "stream",
     "text": [
      "<class 'pandas.core.frame.DataFrame'>\n",
      "RangeIndex: 429 entries, 0 to 428\n",
      "Data columns (total 13 columns):\n",
      " #   Column       Non-Null Count  Dtype  \n",
      "---  ------       --------------  -----  \n",
      " 0   Unnamed: 0   429 non-null    int64  \n",
      " 1   full_name    429 non-null    object \n",
      " 2   rating       429 non-null    int64  \n",
      " 3   jersey       429 non-null    object \n",
      " 4   position     429 non-null    object \n",
      " 5   b_day        429 non-null    object \n",
      " 6   height       429 non-null    float64\n",
      " 7   weight       429 non-null    float64\n",
      " 8   salary       429 non-null    int64  \n",
      " 9   country      429 non-null    object \n",
      " 10  draft_year   429 non-null    int64  \n",
      " 11  draft_round  429 non-null    object \n",
      " 12  draft_peak   429 non-null    object \n",
      "dtypes: float64(2), int64(4), object(7)\n",
      "memory usage: 43.7+ KB\n"
     ]
    }
   ],
   "source": [
    "df.info()"
   ]
  },
  {
   "cell_type": "code",
   "execution_count": 11,
   "id": "a3cffca4",
   "metadata": {},
   "outputs": [],
   "source": [
    "from scipy import stats"
   ]
  },
  {
   "cell_type": "code",
   "execution_count": 12,
   "id": "a5fad75a",
   "metadata": {},
   "outputs": [
    {
     "name": "stdout",
     "output_type": "stream",
     "text": [
      "NormaltestResult(statistic=4.846177468074185, pvalue=0.08864738596500196)\n"
     ]
    }
   ],
   "source": [
    "print(stats.normaltest(df.height))"
   ]
  },
  {
   "cell_type": "code",
   "execution_count": 13,
   "id": "148951c3",
   "metadata": {},
   "outputs": [
    {
     "name": "stdout",
     "output_type": "stream",
     "text": [
      "NormaltestResult(statistic=6.300828847362206, pvalue=0.0428343716102344)\n"
     ]
    }
   ],
   "source": [
    "print(stats.normaltest(np.log(df.height)))"
   ]
  },
  {
   "cell_type": "code",
   "execution_count": 14,
   "id": "2b945a69",
   "metadata": {},
   "outputs": [
    {
     "name": "stdout",
     "output_type": "stream",
     "text": [
      "NormaltestResult(statistic=10.843417553875204, pvalue=0.004419588101514321)\n"
     ]
    }
   ],
   "source": [
    "print(stats.normaltest(df.weight))"
   ]
  },
  {
   "cell_type": "code",
   "execution_count": 15,
   "id": "94bd28c8",
   "metadata": {},
   "outputs": [
    {
     "name": "stdout",
     "output_type": "stream",
     "text": [
      "NormaltestResult(statistic=6.9706576041159405, pvalue=0.030643681067169075)\n"
     ]
    }
   ],
   "source": [
    "print(stats.normaltest((np.log(df.weight))))"
   ]
  },
  {
   "cell_type": "code",
   "execution_count": 16,
   "id": "3dee704c",
   "metadata": {},
   "outputs": [],
   "source": [
    "df['weightLog'] = np.log(df.weight)"
   ]
  },
  {
   "cell_type": "code",
   "execution_count": 17,
   "id": "9fcd5f92",
   "metadata": {},
   "outputs": [
    {
     "data": {
      "text/html": [
       "<div>\n",
       "<style scoped>\n",
       "    .dataframe tbody tr th:only-of-type {\n",
       "        vertical-align: middle;\n",
       "    }\n",
       "\n",
       "    .dataframe tbody tr th {\n",
       "        vertical-align: top;\n",
       "    }\n",
       "\n",
       "    .dataframe thead th {\n",
       "        text-align: right;\n",
       "    }\n",
       "</style>\n",
       "<table border=\"1\" class=\"dataframe\">\n",
       "  <thead>\n",
       "    <tr style=\"text-align: right;\">\n",
       "      <th></th>\n",
       "      <th>Unnamed: 0</th>\n",
       "      <th>full_name</th>\n",
       "      <th>rating</th>\n",
       "      <th>jersey</th>\n",
       "      <th>position</th>\n",
       "      <th>b_day</th>\n",
       "      <th>height</th>\n",
       "      <th>weight</th>\n",
       "      <th>salary</th>\n",
       "      <th>country</th>\n",
       "      <th>draft_year</th>\n",
       "      <th>draft_round</th>\n",
       "      <th>draft_peak</th>\n",
       "      <th>weightLog</th>\n",
       "    </tr>\n",
       "  </thead>\n",
       "  <tbody>\n",
       "    <tr>\n",
       "      <th>0</th>\n",
       "      <td>0</td>\n",
       "      <td>LeBron James</td>\n",
       "      <td>97</td>\n",
       "      <td>#23</td>\n",
       "      <td>F</td>\n",
       "      <td>12/30/84</td>\n",
       "      <td>2.06</td>\n",
       "      <td>113.4</td>\n",
       "      <td>37436858</td>\n",
       "      <td>USA</td>\n",
       "      <td>2003</td>\n",
       "      <td>1</td>\n",
       "      <td>1</td>\n",
       "      <td>4.730921</td>\n",
       "    </tr>\n",
       "    <tr>\n",
       "      <th>1</th>\n",
       "      <td>1</td>\n",
       "      <td>Kawhi Leonard</td>\n",
       "      <td>97</td>\n",
       "      <td>#2</td>\n",
       "      <td>F</td>\n",
       "      <td>06/29/91</td>\n",
       "      <td>2.01</td>\n",
       "      <td>102.1</td>\n",
       "      <td>32742000</td>\n",
       "      <td>USA</td>\n",
       "      <td>2011</td>\n",
       "      <td>1</td>\n",
       "      <td>15</td>\n",
       "      <td>4.625953</td>\n",
       "    </tr>\n",
       "    <tr>\n",
       "      <th>2</th>\n",
       "      <td>2</td>\n",
       "      <td>Giannis Antetokounmpo</td>\n",
       "      <td>96</td>\n",
       "      <td>#34</td>\n",
       "      <td>F-G</td>\n",
       "      <td>12/06/94</td>\n",
       "      <td>2.11</td>\n",
       "      <td>109.8</td>\n",
       "      <td>25842697</td>\n",
       "      <td>Greece</td>\n",
       "      <td>2013</td>\n",
       "      <td>1</td>\n",
       "      <td>15</td>\n",
       "      <td>4.698661</td>\n",
       "    </tr>\n",
       "    <tr>\n",
       "      <th>3</th>\n",
       "      <td>3</td>\n",
       "      <td>Kevin Durant</td>\n",
       "      <td>96</td>\n",
       "      <td>#7</td>\n",
       "      <td>F</td>\n",
       "      <td>09/29/88</td>\n",
       "      <td>2.08</td>\n",
       "      <td>104.3</td>\n",
       "      <td>37199000</td>\n",
       "      <td>USA</td>\n",
       "      <td>2007</td>\n",
       "      <td>1</td>\n",
       "      <td>2</td>\n",
       "      <td>4.647271</td>\n",
       "    </tr>\n",
       "    <tr>\n",
       "      <th>4</th>\n",
       "      <td>4</td>\n",
       "      <td>James Harden</td>\n",
       "      <td>96</td>\n",
       "      <td>#13</td>\n",
       "      <td>G</td>\n",
       "      <td>08/26/89</td>\n",
       "      <td>1.96</td>\n",
       "      <td>99.8</td>\n",
       "      <td>38199000</td>\n",
       "      <td>USA</td>\n",
       "      <td>2009</td>\n",
       "      <td>1</td>\n",
       "      <td>3</td>\n",
       "      <td>4.603168</td>\n",
       "    </tr>\n",
       "  </tbody>\n",
       "</table>\n",
       "</div>"
      ],
      "text/plain": [
       "   Unnamed: 0              full_name  rating jersey position     b_day  \\\n",
       "0           0           LeBron James      97    #23        F  12/30/84   \n",
       "1           1          Kawhi Leonard      97     #2        F  06/29/91   \n",
       "2           2  Giannis Antetokounmpo      96    #34      F-G  12/06/94   \n",
       "3           3           Kevin Durant      96     #7        F  09/29/88   \n",
       "4           4           James Harden      96    #13        G  08/26/89   \n",
       "\n",
       "   height  weight    salary country  draft_year draft_round draft_peak  \\\n",
       "0    2.06   113.4  37436858     USA        2003           1          1   \n",
       "1    2.01   102.1  32742000     USA        2011           1         15   \n",
       "2    2.11   109.8  25842697  Greece        2013           1         15   \n",
       "3    2.08   104.3  37199000     USA        2007           1          2   \n",
       "4    1.96    99.8  38199000     USA        2009           1          3   \n",
       "\n",
       "   weightLog  \n",
       "0   4.730921  \n",
       "1   4.625953  \n",
       "2   4.698661  \n",
       "3   4.647271  \n",
       "4   4.603168  "
      ]
     },
     "execution_count": 17,
     "metadata": {},
     "output_type": "execute_result"
    }
   ],
   "source": [
    "df.head()"
   ]
  },
  {
   "cell_type": "code",
   "execution_count": 18,
   "id": "f3335f79",
   "metadata": {},
   "outputs": [],
   "source": [
    "from sklearn.neighbors import KNeighborsClassifier\n",
    "from sklearn.svm import SVC\n",
    "from sklearn.ensemble import RandomForestClassifier\n",
    "from sklearn.model_selection import cross_val_score"
   ]
  },
  {
   "cell_type": "code",
   "execution_count": 19,
   "id": "ebe55390",
   "metadata": {},
   "outputs": [],
   "source": [
    "knn_clf = KNeighborsClassifier()\n",
    "svm_clf = SVC()\n",
    "forest_clf = RandomForestClassifier()"
   ]
  },
  {
   "cell_type": "code",
   "execution_count": 20,
   "id": "362ce245",
   "metadata": {},
   "outputs": [
    {
     "name": "stderr",
     "output_type": "stream",
     "text": [
      "C:\\Users\\User\\anaconda3\\lib\\site-packages\\sklearn\\model_selection\\_split.py:666: UserWarning: The least populated class in y has only 1 members, which is less than n_splits=7.\n",
      "  warnings.warn((\"The least populated class in y has only %d\"\n",
      "C:\\Users\\User\\anaconda3\\lib\\site-packages\\sklearn\\model_selection\\_split.py:666: UserWarning: The least populated class in y has only 1 members, which is less than n_splits=7.\n",
      "  warnings.warn((\"The least populated class in y has only %d\"\n",
      "C:\\Users\\User\\anaconda3\\lib\\site-packages\\sklearn\\model_selection\\_split.py:666: UserWarning: The least populated class in y has only 1 members, which is less than n_splits=7.\n",
      "  warnings.warn((\"The least populated class in y has only %d\"\n"
     ]
    }
   ],
   "source": [
    "knn_acc_score = cross_val_score(knn_clf, df[['height', 'weightLog']], df.rating, cv=7).mean()\n",
    "svm_acc_score = cross_val_score(svm_clf, df[['height', 'weightLog']], df.rating, cv=7).mean()\n",
    "forest_acc_score = cross_val_score(forest_clf, df[['height', 'weightLog']], df.rating, cv=7).mean()"
   ]
  },
  {
   "cell_type": "code",
   "execution_count": 21,
   "id": "582e70db",
   "metadata": {},
   "outputs": [
    {
     "name": "stdout",
     "output_type": "stream",
     "text": [
      "Leaderboard:\n",
      "1. SVC: 0.1025534486666163\n",
      "2. Forest: 0.07928533655662158\n",
      "3. KNN: 0.07924756364735212\n"
     ]
    }
   ],
   "source": [
    "leaderboard = sorted([\n",
    "    ('KNN', knn_acc_score),\n",
    "    ('SVC', svm_acc_score),\n",
    "    ('Forest', forest_acc_score)\n",
    "], key=lambda pair: pair[1], reverse=True)\n",
    "\n",
    "print('Leaderboard:')\n",
    "for idx, (leader_name, leader_score) in enumerate(leaderboard):\n",
    "    print(f'{idx + 1}. {leader_name}: {leader_score}')"
   ]
  },
  {
   "cell_type": "code",
   "execution_count": 22,
   "id": "9f52330c",
   "metadata": {},
   "outputs": [
    {
     "data": {
      "text/plain": [
       "5.298317366548036"
      ]
     },
     "execution_count": 22,
     "metadata": {},
     "output_type": "execute_result"
    }
   ],
   "source": [
    "np.log(200)"
   ]
  },
  {
   "cell_type": "code",
   "execution_count": 23,
   "id": "96bfa18e",
   "metadata": {},
   "outputs": [
    {
     "data": {
      "text/plain": [
       "199.99999999999991"
      ]
     },
     "execution_count": 23,
     "metadata": {},
     "output_type": "execute_result"
    }
   ],
   "source": [
    "np.exp(5.298317366548036)"
   ]
  },
  {
   "cell_type": "code",
   "execution_count": null,
   "id": "659b3a61",
   "metadata": {},
   "outputs": [],
   "source": []
  }
 ],
 "metadata": {
  "kernelspec": {
   "display_name": "Python 3 (ipykernel)",
   "language": "python",
   "name": "python3"
  },
  "language_info": {
   "codemirror_mode": {
    "name": "ipython",
    "version": 3
   },
   "file_extension": ".py",
   "mimetype": "text/x-python",
   "name": "python",
   "nbconvert_exporter": "python",
   "pygments_lexer": "ipython3",
   "version": "3.8.12"
  }
 },
 "nbformat": 4,
 "nbformat_minor": 5
}
